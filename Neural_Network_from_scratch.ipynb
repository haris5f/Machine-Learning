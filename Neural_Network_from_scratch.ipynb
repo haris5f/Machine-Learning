{
 "cells": [
  {
   "cell_type": "markdown",
   "metadata": {
    "id": "vpn9k3BV1X2s"
   },
   "source": [
    "#Deep Learning - :Neural Network Class\n",
    "\n",
    "*__Submission Instructions:__*\n",
    "- Rename this notebook to `PA2_HW1_Rollnumber.ipynb` before submission on LMS.\n",
    "- All code must be written in this notebook (you do not need to submit any other files).\n",
    "- The output of all cells must be present in the version of the notebook you submit. You will be penalized if the output is absent.\n",
    "- The university honor code should be maintained. Any violation, if found, will result in disciplinary action. \n",
    "- You have to download assignment from LMS and do all your workings on colab. Don't download the files again and again.\n",
    "- You can share the notebook link of your colab noteboob in the begining of the notebook."
   ]
  },
  {
   "cell_type": "code",
   "execution_count": 1,
   "metadata": {
    "id": "xEq-Q_zcaNNe"
   },
   "outputs": [],
   "source": []
  },
  {
   "cell_type": "code",
   "execution_count": 2,
   "metadata": {
    "ExecuteTime": {
     "end_time": "2019-01-30T14:39:17.671980Z",
     "start_time": "2019-01-30T14:38:40.137027Z"
    },
    "id": "UPL8Ut1u1X2-"
   },
   "outputs": [],
   "source": [
    "import numpy as np\n",
    "import pandas as pd\n",
    "import time\n",
    "%matplotlib inline\n",
    "import matplotlib.pyplot as plt\n",
    "plt.style.use('seaborn')\n",
    "from IPython.display import Image\n",
    "import pydot\n",
    "from tqdm import tqdm_notebook\n",
    "import seaborn as sns\n",
    "from sklearn.model_selection import train_test_split\n",
    "from keras.utils import np_utils\n",
    "from sklearn.datasets import make_moons\n",
    "from sklearn.linear_model import LinearRegression, LogisticRegression\n",
    "from sklearn.metrics import confusion_matrix,classification_report\n",
    "import tensorflow as tf"
   ]
  },
  {
   "cell_type": "markdown",
   "metadata": {
    "id": "YdFtEQ5O1X2_"
   },
   "source": [
    "**Please write your roll number in the next cell**"
   ]
  },
  {
   "cell_type": "code",
   "execution_count": 3,
   "metadata": {
    "ExecuteTime": {
     "end_time": "2019-01-30T14:36:37.383767Z",
     "start_time": "2019-01-30T14:36:37.333537Z"
    },
    "id": "xU_yqbc31X2_"
   },
   "outputs": [],
   "source": [
    "rollnumber = 21030008"
   ]
  },
  {
   "cell_type": "markdown",
   "metadata": {
    "id": "D9cjup_91X2_"
   },
   "source": [
    "In this assignment you will be creating 4 versions of the `NeuralNetwork` class. You will start with a simple 3 layer feed forward network and progressively modify the class by adding features to make it more generic. At the end you will have implemented a version which can create networks of arbitrary shape and depth, and which will work for both regression and classification tasks. \n",
    "\n",
    "Often in pratical situations, raw machine learning architecture and code is hidden behind libraries and simplfied toolkits. The purpose of this assignment is to lift that curtain and get you hands-on exprience working with the mathematical fundamentals of neural network architectures. After this, you'll know exactly how a network leverages 'gradient descent' to find optimal solutions and how forward and backward passes are implemented mathematically and in code.\n",
    "\n",
    "\n",
    "### Primary Task\n",
    "Skeleton code is provided to get you started; the main methods you need to implement correspond to the 3 steps of the training process, namely:\n",
    "1. Initialize variables and initialize weights\n",
    "2. Forward pass\n",
    "3. Backward pass AKA Backpropogation\n",
    "4. Weight Update AKA Gradient Descent\n",
    "\n",
    "__Look for comments in the code to see where you are supposed to write code.__ Essentially, you will be working on 5 functions. \n",
    "You should use the lecture slides as reference for the equations. \n",
    "\n",
    "A `fit` function is what combines the previous three functions and overall trains the network to __fit__ to the provided training examples. In all the following tasks, the provided `fit` methods require the three steps of the training process to be correctly working. The function has been setup in a way that it expects the above 3 methods to take particular inputs and return particular outputs. __You are supposed to work within this restriction.__ Modification of the provided code without prior discussion with the TAs will result in a __grade deduction__. \n",
    "\n",
    "\n",
    "\n",
    "To see how well your model is doing, you need to look at the dummy tasks (at the end) and make sure your model loss is going down during training. A dummy regression task of adding two numbers (sum less than 1) has been provided as well. Similarly, a dummy classification task (XOR logic gate) is also present. You can look at the shapes of the inputs and outputs matrices as well as the training trend (once you implement a full task) by using your own class (make sure you are using the correct arguments to the `__init__` method). \n",
    "\n",
    "You can find a demonstration of the neural network working on a synthetic dataset for both regression and classification at the end of the notebook. After you implement your class fully, you can play with the parameters and see the visualization change, we highly recommend that you try this. This part of the notebook will not be graded in any way, but it might give you a better insight/intuition into how the model makes decisions, and how important parameters are in terms of the usefullness of neural networks. You will explore the parameter space more thoroughly in the next assignment :P\n",
    "\n",
    "### Side note\n",
    "*The `plot_model` method will only work if you have the `pydot` python package installed along with [Graphviz](https://graphviz.gitlab.io/download/)). If you do not wish to use this then simply comment out the import for `pydot`.*\n",
    "\n",
    "### Need Help?\n",
    "If you need help, refer to your textbook (provided on LMS) which has examples and explanations for all the processes you'll have to implement, as well as rich details on functions such as `sigmoid` and `softmax`. Going over the book once before getting started is a good idea, you can also refer to the class slides and supplemental material provided with the assignment."
   ]
  },
  {
   "cell_type": "markdown",
   "metadata": {
    "heading_collapsed": true,
    "id": "Jv0mUoiB1X3B"
   },
   "source": [
    "## Task 1"
   ]
  },
  {
   "cell_type": "markdown",
   "metadata": {
    "hidden": true,
    "id": "QOxoQ-_B1X3B"
   },
   "source": [
    "In this task you will implement the simplest version of a feed forward neural network - a 3 layer network. \n",
    "\n",
    "Your code will only be partially vectorized, this means that you will be passing a single data point through the network at a time. In simple terms, the running time of your `fit` method will be $O(e*n)$ where $e$ is the number of epochs and $n$ is the number of data points (assuming all functions/methods called in `fit` take constant time). \n",
    "\n",
    "This version of the network will be using the `softmax` activation function for the output layer and `sigmoid` for the hidden layer, *ie.* a classification model which learns to output the joint probability mass function of the classes in the dataset. "
   ]
  },
  {
   "cell_type": "code",
   "execution_count": 116,
   "metadata": {
    "id": "-y-6i2TL1X3C"
   },
   "outputs": [],
   "source": [
    "def plot_confusion_matrix(conf_mat):\n",
    "    classes = ['airplane','automobile','bird','cat','deer','dog','frog','horse','ship','truck']\n",
    "    df_cm = pd.DataFrame(conf_mat,classes,classes)\n",
    "    plt.figure(figsize=(15,9))\n",
    "    sns.set(font_scale=1.4)\n",
    "    sns.heatmap(df_cm, annot=True,annot_kws={\"size\": 16})\n",
    "    plt.show()\n",
    "\n",
    "class_labels = ['airplane','automobile','bird','cat','deer','dog','frog','horse','ship','truck']\n"
   ]
  },
  {
   "cell_type": "code",
   "execution_count": 117,
   "metadata": {
    "ExecuteTime": {
     "end_time": "2019-01-27T01:25:17.044301Z",
     "start_time": "2019-01-27T01:25:16.984346Z"
    },
    "hidden": true,
    "id": "iP5ZI2Rs1X3C"
   },
   "outputs": [],
   "source": [
    "class NeuralNetwork():\n",
    "    @staticmethod\n",
    "    def mean_squared_error(y_pred, y_true):\n",
    "        # implement mean_squared_error function\n",
    "        mse = np.square(np.subtract(y_true,y_pred)).mean()\n",
    "        return mse\n",
    "    \n",
    "    @staticmethod\n",
    "    def cross_entropy_loss(y_pred, y_true):\n",
    "        # implement cross_entropy_loss function\n",
    "        entropy_loss = -np.mean(y_true*np.log(y_pred))\n",
    "        return entropy_loss\n",
    "    \n",
    "    @staticmethod\n",
    "    def accuracy(y_pred, y_true):\n",
    "        # implement accuracy function\n",
    "        return np.sum(y_pred == y_true)\n",
    "    \n",
    "    @staticmethod\n",
    "    def softmax(x):\n",
    "        # implement softmax function\n",
    "        sof_n = np.exp(x)\n",
    "        soft = sof_n/np.sum(sof_n)\n",
    "        return soft\n",
    "    \n",
    "    \n",
    "    @staticmethod\n",
    "    def sigmoid(x):\n",
    "        # implement sigmoid function\n",
    "        return 1/(1+np.exp(-x))\n",
    "        \n",
    "    \n",
    "    def __init__(self, nodes_per_layer, mode):\n",
    "        '''Creates a Feed-Forward Neural Network.\n",
    "        \"nodes_per_layer\" is a list containing number of nodes in each layer (including input layer)\n",
    "        \"mode\" can be one of 'regression' or 'classification' and controls the output activation as well as training metric'''\n",
    "        if len(nodes_per_layer) < 3:\n",
    "            raise ValueError('Network must have atleast 3 layers (input and output).')\n",
    "        if not (np.array(nodes_per_layer) > 0).all():\n",
    "            raise ValueError('Number of nodes in all layers must be positive.')\n",
    "        if mode not in ['classification','regression']:\n",
    "            raise ValueError('Only \"classification\" and \"regression\" modes are supported.')\n",
    "        \n",
    "        self.num_layers = len(nodes_per_layer) # includes input layer\n",
    "        self.nodes_per_layer = nodes_per_layer\n",
    "        self.input_shape = nodes_per_layer[0]\n",
    "        self.output_shape = nodes_per_layer[-1]\n",
    "        self.mode = mode\n",
    "        \n",
    "        \n",
    "        self.__init_weights(nodes_per_layer)\n",
    "    \n",
    "    def __init_weights(self, nodes_per_layer):\n",
    "        '''Initializes all weights based on standard normal distribution and all biases to 0.'''\n",
    "        self.weights_ = []\n",
    "        self.biases_ = []\n",
    "        for i,_ in enumerate(nodes_per_layer):\n",
    "            if i == 0:\n",
    "                # skip input layer, it does not have weights/bias\n",
    "                continue\n",
    "            \n",
    "            weight_matrix = np.random.normal(size=(nodes_per_layer[i-1], nodes_per_layer[i]))\n",
    "            self.weights_.append(weight_matrix)\n",
    "            bias_vector = np.zeros(shape=(nodes_per_layer[i],))\n",
    "            self.biases_.append(bias_vector)\n",
    "    \n",
    "\n",
    "    def forward_pass(self, input_data):\n",
    "        '''Executes the feed forward algorithm.\n",
    "        \"input_data\" is the input to the network in row-major form\n",
    "        Returns \"activations\", which is a list of all layer outputs (excluding input layer of course)'''\n",
    "        activations = []\n",
    "        x = np.dot(input_data,self.weights_[0])+self.biases_[0]\n",
    "        activations.append(self.sigmoid(x))\n",
    "        x = np.dot(activations[0],self.weights_[1])+self.biases_[1] \n",
    "        activations.append(self.sigmoid(x))\n",
    "        x = np.dot(activations[1],self.weights_[2])+self.biases_[2]\n",
    "        activations.append(self.softmax(x))   \n",
    "        return activations\n",
    "\n",
    "        \n",
    "    \n",
    "    def backward_pass(self, targets, layer_activations):\n",
    "        '''Executes the backpropogation algorithm.\n",
    "        \"targets\" is the ground truth/labels\n",
    "        \"layer_activations\" are the return value of the forward pass step\n",
    "        Returns \"deltas\", which is a list containing weight update values for all layers (excluding the input layer of course)'''\n",
    "        delta3 = np.multiply(layer_activations[2]-targets ,layer_activations[2]*(1-layer_activations[2]))\n",
    "        delta2 = np.multiply(np.dot(self.weights_[2],delta3.T).T ,layer_activations[1]*(1-layer_activations[1]))\n",
    "        delta1 = np.multiply(np.dot(self.weights_[1],delta2.T).T ,layer_activations[0]*(1-layer_activations[0]))\n",
    "        deltas = [delta1,delta2,delta3]\n",
    "\n",
    "\n",
    "        return deltas\n",
    "    \n",
    "    def weight_update(self, deltas, layer_inputs, lr):\n",
    "        '''Executes the gradient descent algorithm.\n",
    "        \"deltas\" is return value of the backward pass step\n",
    "        \"layer_inputs\" is a list containing the inputs for all layers (including the input layer)\n",
    "        \"lr\" is the learning rate'''\n",
    "        for i in range(len(layer_inputs)-1):\n",
    "            self.weights_[i] = self.weights_[i] - lr*(deltas[i].T*layer_inputs[i]).T\n",
    "            self.biases_[i] = self.biases_[i] - lr*np.sum(deltas[i])\n",
    "    \n",
    "    def fit(self, Xs, Ys, epochs, lr=1e-3):\n",
    "        '''Trains the model on the given dataset for \"epoch\" number of itterations with step size=\"lr\". \n",
    "        Returns list containing loss for each epoch.'''\n",
    "        history = []\n",
    "        print(Xs.shape)\n",
    "        print(Ys.shape)\n",
    "        for epoch in tqdm_notebook(range(epochs)):\n",
    "            num_samples = Xs.shape[0]\n",
    "            for i in range(num_samples):\n",
    "                sample_input = Xs[i,:].reshape((1,self.input_shape))\n",
    "                sample_target = Ys[i,:].reshape((1,self.output_shape))\n",
    "                \n",
    "                activations =  self.forward_pass(sample_input) # Call forward_pass function  \n",
    "                deltas =  self.backward_pass(sample_target,activations) # Call backward_pass function  \n",
    "\n",
    "                layer_inputs = [sample_input] + activations[:-1]\n",
    "                self.weight_update(deltas,layer_inputs,lr) # Call weight_update function  \n",
    "            preds = self.predict(Xs) # Call predict function \n",
    "            if self.mode == 'regression':\n",
    "                current_loss = self.mean_squared_error(preds, Ys)\n",
    "            elif self.mode == 'classification':\n",
    "                current_loss = self.cross_entropy_loss(preds, Ys)\n",
    "            history.append(current_loss)\n",
    "        return history\n",
    "    \n",
    "    def predict(self, Xs):\n",
    "        '''Returns the model predictions (output of the last layer) for the given \"Xs\".'''\n",
    "        predictions = []\n",
    "        num_samples = Xs.shape[0]\n",
    "        for i in range(num_samples):\n",
    "            sample = Xs[i,:].reshape((1,self.input_shape))\n",
    "            sample_prediction = self.forward_pass(sample)[-1]\n",
    "            predictions.append(sample_prediction.reshape((self.output_shape,)))\n",
    "        return np.array(predictions)\n",
    "    \n",
    "    def evaluate(self, Xs, Ys):\n",
    "        '''Returns appropriate metrics for the task, calculated on the dataset passed to this method.'''\n",
    "        pred = self.predict(Xs)\n",
    "        if self.mode == 'regression':\n",
    "            return self.mean_squared_error(pred, Ys)\n",
    "        elif self.mode == 'classification':\n",
    "            return self.cross_entropy_loss(pred, Ys), self.accuracy(pred.argmax(axis=1), Ys.argmax(axis=1))\n",
    "    \n",
    "    def plot_model(self, filename):\n",
    "        '''Provide the \"filename\" as a string including file extension. Creates an image showing the model as a graph.'''\n",
    "        graph = pydot.Dot(graph_type='digraph')\n",
    "        graph.set_rankdir('LR')\n",
    "        graph.set_node_defaults(shape='circle', fontsize=0)\n",
    "        for i in range(self.num_layers-1):\n",
    "            for n1 in range(self.nodes_per_layer[i]):\n",
    "                for n2 in range(self.nodes_per_layer[i+1]):\n",
    "                    edge = pydot.Edge(f'l{i}n{n1}', f'l{i+1}n{n2}')\n",
    "                    graph.add_edge(edge)\n",
    "        graph.write_png(filename)\n"
   ]
  },
  {
   "cell_type": "code",
   "execution_count": 118,
   "metadata": {
    "id": "vd_bEGMF1oa2"
   },
   "outputs": [],
   "source": [
    "\n",
    "classes = 10\n",
    "#Download Fashion cifar10 dataset\n",
    "(X_train, y_train), (X_test, y_test) = tf.keras.datasets.cifar10.load_data()\n",
    "\n",
    "#Split the fashion cifar10 dataset into train, validation and test sets (Done for you)\n",
    "#Convert y_train,y_val and y_test to categorical binary values \n",
    "\n",
    "\n",
    "\n",
    "X_train, y_train = X_train[1:15361], y_train[1:15361]\n",
    "y_train = tf.keras.utils.to_categorical(y_train,num_classes=10)\n",
    "y_test = tf.keras.utils.to_categorical(y_test,num_classes=10)\n",
    "\n",
    "#Reshape images of X_train and X_test to 1d array\n",
    "\n",
    "#TO DO\n",
    "print(X_train.shape)\n",
    "X_train = X_train.reshape(15360,32*32*3)\n",
    "X_test = X_test.reshape(10000,32*32*3)\n",
    "\n",
    "\n",
    "#See function of numpy reshape\n",
    "# Mean Normalisation as asked by the TA\n",
    "X_train = (X_train - X_train.mean(axis=1)[:,np.newaxis])\n",
    "X_train = X_train/X_train.std(axis=1)[:,np.newaxis]\n",
    "X_test = X_test - X_test.mean(axis=1)[:,np.newaxis]\n",
    "X_test = X_test/X_test.std(axis=1)[:,np.newaxis]"
   ]
  },
  {
   "cell_type": "code",
   "execution_count": 119,
   "metadata": {
    "colab": {
     "base_uri": "https://localhost:8080/",
     "height": 523,
     "referenced_widgets": [
      "72d2f8f9f1394da3b1d2754d6c409250",
      "b30281451d3d4675bed0fc6ea8e16699",
      "431c5767a3444bb3a9aacbdc734e7173",
      "50de069dc3c346feb3f26262659fc32f",
      "c73b0ccdc928456597ad1c756b4b613e",
      "3b2232916ce04eb4b1748a6febb9b0c3",
      "626e97e185e642149d963a835588b198",
      "389b1b6fb4ab49469a4fade6ea11b9bf",
      "14e9176291ac42219954829c20e647fe",
      "960accc3785c49f7a9ae8f91f2a23da9",
      "f2664cc53e4d4ea581849fe9ee482aba"
     ]
    },
    "id": "FRtc2Dzc2D_H",
    "outputId": "625fad12-39f4-4554-eda1-38cbdd1add7c"
   },
   "outputs": [
    {
     "name": "stdout",
     "output_type": "stream",
     "text": [
      "(5000, 3072)\n",
      "(5000, 10)\n"
     ]
    },
    {
     "name": "stderr",
     "output_type": "stream",
     "text": [
      "/usr/local/lib/python3.7/dist-packages/ipykernel_launcher.py:118: TqdmDeprecationWarning: This function will be removed in tqdm==5.0.0\n",
      "Please use `tqdm.notebook.tqdm` instead of `tqdm.tqdm_notebook`\n"
     ]
    },
    {
     "data": {
      "application/vnd.jupyter.widget-view+json": {
       "model_id": "72d2f8f9f1394da3b1d2754d6c409250",
       "version_major": 2,
       "version_minor": 0
      },
      "text/plain": [
       "  0%|          | 0/200 [00:00<?, ?it/s]"
      ]
     },
     "metadata": {},
     "output_type": "display_data"
    },
    {
     "name": "stdout",
     "output_type": "stream",
     "text": [
      "Runtime of the algorithm is  1248.127  seconds\n"
     ]
    },
    {
     "data": {
      "image/png": "[encoded data removed]",
      "text/plain": [
       "<Figure size 576x396 with 1 Axes>"
      ]
     },
     "metadata": {},
     "output_type": "display_data"
    }
   ],
   "source": [
    "\n",
    "# starting time\n",
    "start = time.time()\n",
    "# Define the input size and output size of  Fashion cifar10 dataset\n",
    "\n",
    "nn = NeuralNetwork([3072,30,10,10], 'classification')\n",
    "# You can tweak the learning rate and epochs to know how things work\n",
    "history = nn.fit(X_train, y_train, epochs=200, lr=0.01)\n",
    "plt.plot(history);\n",
    "plt.gca().set(xlabel='Epoch', ylabel='Cross-entropy', title='Training Plot {}'.format(rollnumber));\n",
    "# end time\n",
    "end = time.time()\n",
    "print(\"Runtime of the algorithm is \",round((end - start),3),\" seconds\")"
   ]
  },
  {
   "cell_type": "markdown",
   "metadata": {
    "heading_collapsed": true,
    "id": "YxD_ligU1X3K"
   },
   "source": [
    "## Task 2"
   ]
  },
  {
   "cell_type": "markdown",
   "metadata": {
    "hidden": true,
    "id": "Ne2uSY9k1X3K"
   },
   "source": [
    "Now you will modify the class to allow the option to learn a regression model. You need to change some methods to account for the `mode` of the network. You can copy your code from task 1 as a starting point if you want.\n",
    "\n",
    "If the `mode` is classification, you will use your code from Task1. In case of the `mode` being regression you will apply the `sigmoid` activation function to both layers and compute the deltas for that."
   ]
  },
  {
   "cell_type": "code",
   "execution_count": 120,
   "metadata": {
    "ExecuteTime": {
     "end_time": "2019-01-27T01:30:16.547173Z",
     "start_time": "2019-01-27T01:30:16.441918Z"
    },
    "hidden": true,
    "id": "zjySHMrK1X3K"
   },
   "outputs": [],
   "source": [
    "class NeuralNetwork():\n",
    "    @staticmethod\n",
    "    def mean_squared_error(y_pred, y_true):\n",
    "        # implement mean_squared_error function\n",
    "        mse = np.square(np.subtract(y_true,y_pred)).mean()\n",
    "        return mse\n",
    "    \n",
    "    @staticmethod\n",
    "    def cross_entropy_loss(y_pred, y_true):\n",
    "        # implement cross_entropy_loss function\n",
    "        entropy_loss = -np.mean(y_true*np.log(y_pred))\n",
    "        return entropy_loss\n",
    "    \n",
    "    @staticmethod\n",
    "    def accuracy(y_pred, y_true):\n",
    "        # implement accuracy function\n",
    "        return np.sum(y_pred == y_true)\n",
    "    \n",
    "    @staticmethod\n",
    "    def softmax(x):\n",
    "        # implement softmax function\n",
    "        sof_n = np.exp(x)\n",
    "        soft = sof_n/np.sum(sof_n)\n",
    "        return soft\n",
    "    \n",
    "    \n",
    "    @staticmethod\n",
    "    def sigmoid(x):\n",
    "        # implement sigmoid function\n",
    "        return 1/(1+np.exp(-x))\n",
    "        \n",
    "    \n",
    "    \n",
    "    def __init__(self, input_size, hidden_nodes, output_size, mode):\n",
    "        '''Creates a Feed-Forward Neural Network.\n",
    "        \"mode\" can be one of 'regression' or 'classification' and controls the output activation as well as training metric\n",
    "        The rest of the parameters represent the number of nodes in each layer (total 3).'''\n",
    "        if mode not in ['classification','regression']:\n",
    "            raise ValueError('Only \"classification\" and \"regression\" modes are supported.')\n",
    "        \n",
    "        self.num_layers = 3 # includes input layer\n",
    "        self.input_shape = input_size\n",
    "        self.hidden_shape = hidden_nodes\n",
    "        self.output_shape = output_size\n",
    "        self.mode = mode\n",
    "        \n",
    "\n",
    "\n",
    "        \n",
    "        self.weights_ = self.biases_ = []\n",
    "        self.__init_weights()\n",
    "    \n",
    "    def __init_weights(self):\n",
    "        '''Initializes all weights based on standard normal distribution and all biases to 0.'''\n",
    "        W_h = np.random.normal(size=(self.input_shape,self.hidden_shape))\n",
    "        b_h = np.zeros(shape=(self.hidden_shape,))\n",
    "        \n",
    "        W_o = np.random.normal(size=(self.hidden_shape,self.output_shape))\n",
    "        b_o = np.zeros(shape=(self.output_shape,))\n",
    "        \n",
    "        self.weights_ = [W_h,W_o]\n",
    "        self.biases_  = [b_h,b_o]\n",
    "\n",
    "    \n",
    "    \n",
    "\n",
    "    \n",
    "    def forward_pass(self, input_data):\n",
    "        '''Executes the feed forward algorithm.\n",
    "        \"input_data\" is the input to the network in row-major form\n",
    "        Returns \"activations\", which is a list of all layer outputs (excluding input layer of course)'''\n",
    "        activations = []\n",
    "        x = np.dot(input_data,self.weights_[0])+self.biases_[0]\n",
    "        activations.append(self.sigmoid(x))\n",
    "        x = np.dot(activations[0],self.weights_[1])+self.biases_[1] \n",
    "        if self.mode=='classification': activations.append(self.softmax(x)) \n",
    "        else: activations.append(self.sigmoid(x))   \n",
    "        return activations\n",
    "    \n",
    "    def backward_pass(self, targets, layer_activations):\n",
    "        '''Executes the backpropogation algorithm.\n",
    "        \"targets\" is the ground truth/labels\n",
    "        \"layer_activations\" are the return value of the forward pass step\n",
    "        Returns \"deltas\", which is a list containing weight update values for all layers (excluding the input layer of course)'''\n",
    "        delta2 = np.multiply(layer_activations[1]-targets ,layer_activations[1]*(1-layer_activations[1]))\n",
    "        delta1 = np.multiply(np.dot(self.weights_[1],delta2.T).T ,layer_activations[0]*(1-layer_activations[0]))\n",
    "        deltas = [delta1,delta2]\n",
    "        return deltas\n",
    "    \n",
    "    def weight_update(self, deltas, layer_inputs, lr):\n",
    "        '''Executes the gradient descent algorithm.\n",
    "        \"deltas\" is return value of the backward pass step\n",
    "        \"layer_inputs\" is a list containing the inputs for all layers (including the input layer)\n",
    "        \"lr\" is the learning rate'''\n",
    "        for i in range(len(layer_inputs)-1):\n",
    "          self.weights_[i] = self.weights_[i] - lr*(deltas[i].T.dot(layer_inputs[i])).T\n",
    "          self.biases_[i] = self.biases_[i] - lr*np.sum(deltas[i])\n",
    "        \n",
    "        \n",
    "    \n",
    "    \n",
    "    def fit(self, Xs, Ys, epochs, lr=1e-3):\n",
    "        '''Trains the model on the given dataset for \"epoch\" number of itterations with step size=\"lr\". \n",
    "        Returns list containing loss for each epoch.'''\n",
    "        history = []\n",
    "        for epoch in tqdm_notebook(range(epochs)):\n",
    "            num_samples = Xs.shape[0]\n",
    "            for i in range(num_samples):\n",
    "                if(i+2 <= num_samples):\n",
    "                    sample_input = Xs[i:i+2,:].reshape((1,self.input_shape))\n",
    "                    sample_target = Ys[i,:].reshape((1,self.output_shape))\n",
    "                \n",
    "                    activations = self.forward_pass(sample_input) # Call forward_pass function  \n",
    "                    deltas = self.backward_pass(sample_target,activations) # Call backward_pass function\n",
    "\n",
    "                    layer_inputs = [sample_input] + activations[:-1]\n",
    "                    # Call weight_update function\n",
    "                    self.weight_update(deltas,layer_inputs,lr)\n",
    "\n",
    "            preds = self.predict(Xs)  # Call predict function \n",
    "            if self.mode == 'regression':\n",
    "                current_loss = self.mean_squared_error(preds, Ys[:-1])\n",
    "            elif self.mode == 'classification':\n",
    "                current_loss = self.cross_entropy_loss(preds, Ys[:-1])\n",
    "            history.append(current_loss)\n",
    "        return history\n",
    "    \n",
    "    def predict(self, Xs):\n",
    "        '''Returns the model predictions (output of the last layer) for the given \"Xs\".'''\n",
    "        predictions = []\n",
    "        num_samples = Xs.shape[0]\n",
    "        for i in range(num_samples):\n",
    "            if(i+2 <= num_samples):\n",
    "                sample = Xs[i:i+2,:].reshape((1,self.input_shape))\n",
    "                sample_prediction = self.forward_pass(sample)[-1]\n",
    "                predictions.append(sample_prediction.reshape((self.output_shape,)))\n",
    "        return np.array(predictions)\n",
    "    \n",
    "    def evaluate(self, Xs, Ys):\n",
    "        '''Returns appropriate metrics for the task, calculated on the dataset passed to this method.'''\n",
    "        pred = self.predict(Xs)\n",
    "        if self.mode == 'regression':\n",
    "            return self.mean_squared_error(pred, Ys)\n",
    "        elif self.mode == 'classification':\n",
    "            return self.cross_entropy_loss(pred, Ys), self.accuracy(pred.argmax(axis=1), Ys.argmax(axis=1))\n",
    "    \n",
    "    def plot_model(self, filename):\n",
    "        '''Provide the \"filename\" as a string including file extension. Creates an image showing the model as a graph.'''\n",
    "        graph = pydot.Dot(graph_type='digraph')\n",
    "        graph.set_rankdir('LR')\n",
    "        graph.set_node_defaults(shape='circle', fontsize=0)\n",
    "        nodes_per_layer = [self.input_shape, self.hidden_shape, self.output_shape]\n",
    "        for i in range(self.num_layers-1):\n",
    "            for n1 in range(nodes_per_layer[i]):\n",
    "                for n2 in range(nodes_per_layer[i+1]):\n",
    "                    edge = pydot.Edge(f'l{i}n{n1}', f'l{i+1}n{n2}')\n",
    "                    graph.add_edge(edge)\n",
    "        graph.write_png(filename)"
   ]
  },
  {
   "cell_type": "code",
   "execution_count": 121,
   "metadata": {
    "colab": {
     "base_uri": "https://localhost:8080/",
     "height": 364
    },
    "id": "XbSFGpT1aATA",
    "outputId": "4f77e7f0-c575-47ca-dc17-973ae40086ff"
   },
   "outputs": [
    {
     "data": {
      "image/png": "[encoded data removed]",
      "text/plain": [
       "<IPython.core.display.Image object>"
      ]
     },
     "execution_count": 121,
     "metadata": {},
     "output_type": "execute_result"
    }
   ],
   "source": [
    "nn = NeuralNetwork(input_size=2, hidden_nodes=5, output_size=1, mode='regression')\n",
    "nn.plot_model('graph.png')\n",
    "Image('graph.png')"
   ]
  },
  {
   "cell_type": "code",
   "execution_count": 122,
   "metadata": {
    "colab": {
     "base_uri": "https://localhost:8080/",
     "height": 358
    },
    "id": "ZoUiximFaDCd",
    "outputId": "4e13efce-8a23-424c-ab6e-dc8d17a91f21"
   },
   "outputs": [
    {
     "data": {
      "image/png": "[encoded data removed]",
      "text/plain": [
       "<Figure size 576x396 with 1 Axes>"
      ]
     },
     "metadata": {},
     "output_type": "display_data"
    }
   ],
   "source": [
    "data_x, _ = make_moons(200, noise=0.18)\n",
    "plt.scatter(data_x[:,0], data_x[:,1]);"
   ]
  },
  {
   "cell_type": "code",
   "execution_count": 123,
   "metadata": {
    "id": "gw7qpoQt1X3L"
   },
   "outputs": [],
   "source": [
    "reg = LinearRegression()\n",
    "reg = reg.fit(data_x[:,0].reshape((200,1)), data_x[:,1].reshape((200,1)));\n",
    "\n",
    "d = np.arange(-1.5, 2.5, 0.1).reshape((40,1))\n",
    "preds = reg.predict(d)"
   ]
  },
  {
   "cell_type": "code",
   "execution_count": 124,
   "metadata": {
    "colab": {
     "base_uri": "https://localhost:8080/",
     "height": 400
    },
    "id": "ehZwKJPLaEQu",
    "outputId": "7cf380c7-3a71-400e-86ca-e86388d7113e"
   },
   "outputs": [
    {
     "data": {
      "image/png": "[encoded data removed]",
      "text/plain": [
       "<Figure size 576x396 with 1 Axes>"
      ]
     },
     "metadata": {},
     "output_type": "display_data"
    }
   ],
   "source": [
    "fig, ax = plt.subplots()\n",
    "ax.scatter(data_x[:,0].reshape((200,1)), data_x[:,1].reshape((200,1)));\n",
    "ax.plot(d.flatten(), preds.flatten(), c='tab:red', label='Prediction');\n",
    "ax.set(xlabel='Input Feature', ylabel='Target Variable', title='Linear Regression {}'.format(rollnumber));\n",
    "ax.legend();"
   ]
  },
  {
   "cell_type": "code",
   "execution_count": 125,
   "metadata": {
    "colab": {
     "base_uri": "https://localhost:8080/",
     "height": 487,
     "referenced_widgets": [
      "9030ade47c634beb84492ab2024c26a3",
      "16910663f96247a7aa9ee201a30073ba",
      "0b347ca851a047088c516943e52cd419",
      "74b647c8b174491d8ec32677ff47d818",
      "52735452584f4055a7e48514f83f5a5b",
      "9c26b34169c74caa98c96bc0e3cfb8d5",
      "cf0e9014ab2645e2939e93e61a18a08b",
      "042c6d8b6a8441599787b4449daf2558",
      "aee2e4d9fca44a179883a04062561a14",
      "c23683e247d4475a83d6392a91320ba6",
      "f3699fc6d31a493da69379e6115be462"
     ]
    },
    "id": "BvFaMw5ETOEI",
    "outputId": "f6e7ce2f-13e5-4bb1-86f6-6a0ff6d6252c"
   },
   "outputs": [
    {
     "name": "stderr",
     "output_type": "stream",
     "text": [
      "/usr/local/lib/python3.7/dist-packages/ipykernel_launcher.py:106: TqdmDeprecationWarning: This function will be removed in tqdm==5.0.0\n",
      "Please use `tqdm.notebook.tqdm` instead of `tqdm.tqdm_notebook`\n"
     ]
    },
    {
     "data": {
      "application/vnd.jupyter.widget-view+json": {
       "model_id": "9030ade47c634beb84492ab2024c26a3",
       "version_major": 2,
       "version_minor": 0
      },
      "text/plain": [
       "  0%|          | 0/200 [00:00<?, ?it/s]"
      ]
     },
     "metadata": {},
     "output_type": "display_data"
    },
    {
     "name": "stdout",
     "output_type": "stream",
     "text": [
      "Runtime of the algorithm is  3.295  seconds\n"
     ]
    },
    {
     "data": {
      "image/png": "[encoded data removed]",
      "text/plain": [
       "<Figure size 576x396 with 1 Axes>"
      ]
     },
     "metadata": {},
     "output_type": "display_data"
    }
   ],
   "source": [
    "\n",
    "# starting time\n",
    "start = time.time()\n",
    "\n",
    "nn = NeuralNetwork(input_size=2, hidden_nodes=6, output_size=1, mode='regression')\n",
    "history = nn.fit(data_x[:,0].reshape((200,1)), data_x[:,1].reshape((200,1)), epochs=200, lr=1e-4)\n",
    "preds = nn.predict(d)\n",
    "plt.plot(history);\n",
    "plt.gca().set(xlabel='Epoch', ylabel='MSE', title='Training Plot {}'.format(rollnumber));\n",
    "# end time\n",
    "end = time.time()\n",
    "print(\"Runtime of the algorithm is \",round((end - start),3),\" seconds\")"
   ]
  },
  {
   "cell_type": "markdown",
   "metadata": {
    "heading_collapsed": true,
    "id": "vjLb49531X3N"
   },
   "source": [
    "## Task 3"
   ]
  },
  {
   "cell_type": "markdown",
   "metadata": {
    "hidden": true,
    "id": "Z1eCdRmk1X3N"
   },
   "source": [
    "Again, if it helps copy only your code from Task2 as a starting point in the next cell. Now you will modify the class to allow an arbitrarily shaped network. \n",
    "\n",
    "*Hint: The output/last layer is special in terms of the delta calculation. All the hidden layers have the same calculation (chain rule)*"
   ]
  },
  {
   "cell_type": "code",
   "execution_count": 126,
   "metadata": {
    "ExecuteTime": {
     "end_time": "2019-01-27T01:30:16.547173Z",
     "start_time": "2019-01-27T01:30:16.441918Z"
    },
    "hidden": true,
    "id": "rpVDYPBu1X3N"
   },
   "outputs": [],
   "source": [
    "class NeuralNetwork():\n",
    "    @staticmethod\n",
    "    def mean_squared_error(y_pred, y_true):\n",
    "        # implement mean_squared_error function\n",
    "        mse = np.square(np.subtract(y_true,y_pred)).mean()\n",
    "        return mse\n",
    "    \n",
    "    @staticmethod\n",
    "    def cross_entropy_loss(y_pred, y_true):\n",
    "        # implement cross_entropy_loss function\n",
    "        entropy_loss = -np.mean(y_true*np.log(y_pred))\n",
    "        return entropy_loss\n",
    "    \n",
    "    @staticmethod\n",
    "    def accuracy(y_pred, y_true):\n",
    "        # implement accuracy function\n",
    "        return np.sum(y_pred == y_true)\n",
    "    \n",
    "    @staticmethod\n",
    "    def softmax(x):\n",
    "        # implement softmax function\n",
    "        sof_n = np.exp(x)\n",
    "        soft = sof_n/np.sum(sof_n)\n",
    "        return soft\n",
    "    \n",
    "    \n",
    "    @staticmethod\n",
    "    def sigmoid(x):\n",
    "        # implement sigmoid function\n",
    "        return 1/(1+np.exp(-x))\n",
    "        \n",
    "    \n",
    "    def __init__(self, nodes_per_layer, mode):\n",
    "        '''Creates a Feed-Forward Neural Network.\n",
    "        \"nodes_per_layer\" is a list containing number of nodes in each layer (including input layer)\n",
    "        \"mode\" can be one of 'regression' or 'classification' and controls the output activation as well as training metric'''\n",
    "        if len(nodes_per_layer) < 2:\n",
    "            raise ValueError('Network must have atleast 2 layers (input and output).')\n",
    "        if not (np.array(nodes_per_layer) > 0).all():\n",
    "            raise ValueError('Number of nodes in all layers must be positive.')\n",
    "        if mode not in ['classification','regression']:\n",
    "            raise ValueError('Only \"classification\" and \"regression\" modes are supported.')\n",
    "\n",
    "        self.num_layers = len(nodes_per_layer) # includes input layer\n",
    "        self.nodes_per_layer = nodes_per_layer\n",
    "        self.input_shape = nodes_per_layer[0]\n",
    "        self.output_shape = nodes_per_layer[-1]\n",
    "        self.mode = mode\n",
    "        \n",
    "        \n",
    "        self.__init_weights(nodes_per_layer)\n",
    "    \n",
    "    def __init_weights(self, nodes_per_layer):\n",
    "        '''Initializes all weights based on standard normal distribution and all biases to 0.'''\n",
    "        self.weights_ = []\n",
    "        self.biases_ = []\n",
    "        for i,_ in enumerate(nodes_per_layer):\n",
    "            if i == 0:\n",
    "                # skip input layer, it does not have weights/bias\n",
    "                continue\n",
    "            weight_matrix = np.random.normal(size=(nodes_per_layer[i-1], nodes_per_layer[i]))\n",
    "            self.weights_.append(weight_matrix)\n",
    "            bias_vector = np.zeros(shape=(nodes_per_layer[i],))\n",
    "            self.biases_.append(bias_vector)\n",
    "    \n",
    "\n",
    "    def forward_pass(self, input_data):\n",
    "        '''Executes the feed forward algorithm.\n",
    "        \"input_data\" is the input to the network in row-major form\n",
    "        Returns \"activations\", which is a list of all layer outputs (excluding input layer of course)'''\n",
    "        activations = []\n",
    "        x = np.dot(input_data,self.weights_[0])+self.biases_[0]\n",
    "        activations.append(self.sigmoid(x))\n",
    "        for i in range(1,self.num_layers-2):\n",
    "          x = np.dot(activations[i-1],self.weights_[i])+self.biases_[i]\n",
    "          activations.append(self.sigmoid(x))\n",
    "        x = np.dot(activations[-1],self.weights_[-1])+self.biases_[-1]\n",
    "        if self.mode=='classification': activations.append(self.softmax(x)) \n",
    "        else: activations.append(self.sigmoid(x))          \n",
    "        return activations\n",
    "    \n",
    "    def backward_pass(self, targets, layer_activations):\n",
    "        '''Executes the backpropogation algorithm.\n",
    "        \"targets\" is the ground truth/labels\n",
    "        \"layer_activations\" are the return value of the forward pass step\n",
    "        Returns \"deltas\", which is a list containing weight update values for all layers (excluding the input layer of course)'''\n",
    "        deltas = []\n",
    "        x = np.multiply(layer_activations[-1]-targets ,layer_activations[-1]*(1-layer_activations[-1]))\n",
    "        deltas.append(x)\n",
    "        for i in range(len(layer_activations),0,-1):\n",
    "          if i == len(layer_activations): continue\n",
    "\n",
    "          x = np.multiply((np.dot(self.weights_[i],x.T)).T ,layer_activations[i-1]*(1-layer_activations[i-1]))\n",
    "          deltas.append(x)\n",
    "        deltas.reverse()\n",
    "        return deltas\n",
    "    \n",
    "    def weight_update(self, deltas, layer_inputs, lr):\n",
    "        '''Executes the gradient descent algorithm.\n",
    "        \"deltas\" is return value of the backward pass step\n",
    "        \"layer_inputs\" is a list containing the inputs for all layers (including the input layer)\n",
    "        \"lr\" is the learning rate'''\n",
    "        for i in range(self.num_layers-1):\n",
    "          self.weights_[i] = self.weights_[i] - lr*(deltas[i].T.dot(layer_inputs[i])).T\n",
    "          self.biases_[i] = self.biases_[i] - lr*np.sum(deltas[i])\n",
    "    \n",
    "    def fit(self, Xs, Ys, epochs, lr=1e-3):\n",
    "        '''Trains the model on the given dataset for \"epoch\" number of itterations with step size=\"lr\". \n",
    "        Returns list containing loss for each epoch.'''\n",
    "        history = []\n",
    "        print(Xs.shape)\n",
    "        print(Ys.shape)\n",
    "        for epoch in tqdm_notebook(range(epochs)):\n",
    "            num_samples = Xs.shape[0]\n",
    "            for i in range(num_samples):\n",
    "                sample_input = Xs[i,:].reshape((1,self.input_shape))\n",
    "                sample_target = Ys[i,:].reshape((1,self.output_shape))\n",
    "                \n",
    "                activations =  self.forward_pass(sample_input) # Call forward_pass function  \n",
    "                deltas =  self.backward_pass(sample_target,activations) # Call backward_pass function  \n",
    "\n",
    "                layer_inputs = [sample_input] + activations[:-1]\n",
    "                self.weight_update(deltas, layer_inputs,lr) # Call weight_update function  \n",
    "            preds = self.predict(Xs) # Call predict function \n",
    "            if self.mode == 'regression':\n",
    "                current_loss = self.mean_squared_error(preds, Ys)\n",
    "            elif self.mode == 'classification':\n",
    "                current_loss = self.cross_entropy_loss(preds, Ys)\n",
    "            history.append(current_loss)\n",
    "        return history\n",
    "    \n",
    "    def predict(self, Xs):\n",
    "        '''Returns the model predictions (output of the last layer) for the given \"Xs\".'''\n",
    "        predictions = []\n",
    "        num_samples = Xs.shape[0]\n",
    "        for i in range(num_samples):\n",
    "            sample = Xs[i,:].reshape((1,self.input_shape))\n",
    "            sample_prediction = self.forward_pass(sample)[-1]\n",
    "            predictions.append(sample_prediction.reshape((self.output_shape,)))\n",
    "        return np.array(predictions)\n",
    "    \n",
    "    def evaluate(self, Xs, Ys):\n",
    "        '''Returns appropriate metrics for the task, calculated on the dataset passed to this method.'''\n",
    "        pred = self.predict(Xs)\n",
    "        if self.mode == 'regression':\n",
    "            return self.mean_squared_error(pred, Ys)\n",
    "        elif self.mode == 'classification':\n",
    "            return self.cross_entropy_loss(pred, Ys), self.accuracy(pred.argmax(axis=1), Ys.argmax(axis=1))\n",
    "    \n",
    "    def plot_model(self, filename):\n",
    "        '''Provide the \"filename\" as a string including file extension. Creates an image showing the model as a graph.'''\n",
    "        graph = pydot.Dot(graph_type='digraph')\n",
    "        graph.set_rankdir('LR')\n",
    "        graph.set_node_defaults(shape='circle', fontsize=0)\n",
    "        for i in range(self.num_layers-1):\n",
    "            for n1 in range(self.nodes_per_layer[i]):\n",
    "                for n2 in range(self.nodes_per_layer[i+1]):\n",
    "                    edge = pydot.Edge(f'l{i}n{n1}', f'l{i+1}n{n2}')\n",
    "                    graph.add_edge(edge)\n",
    "        graph.write_png(filename)\n"
   ]
  },
  {
   "cell_type": "code",
   "execution_count": 127,
   "metadata": {
    "colab": {
     "base_uri": "https://localhost:8080/",
     "height": 364
    },
    "id": "cmSEEOAgaIAF",
    "outputId": "d8df99cd-0a20-433b-e2f9-125a38ad9d94"
   },
   "outputs": [
    {
     "data": {
      "image/png": "[encoded data removed]",
      "text/plain": [
       "<IPython.core.display.Image object>"
      ]
     },
     "execution_count": 127,
     "metadata": {},
     "output_type": "execute_result"
    }
   ],
   "source": [
    "nn = NeuralNetwork([2,5,2], 'classification')\n",
    "nn.plot_model('graph.png')\n",
    "Image('graph.png')"
   ]
  },
  {
   "cell_type": "code",
   "execution_count": 128,
   "metadata": {
    "colab": {
     "base_uri": "https://localhost:8080/",
     "height": 523,
     "referenced_widgets": [
      "5d156b587a54419ab0f7f3de5d7ee8b7",
      "e0680f61833747d89dc06d114595f83a",
      "2a4a9e0199714548b260848efe17b208",
      "10d5aae195eb41ff8a2ce1d2da8e6547",
      "f5cf5153f67c4b22a092a1a6b155ec97",
      "9aa82afe4a1940d89667d3d0a652a9e4",
      "0f37785dbe394d818dbb38fc995ba96b",
      "fc25b1cad2df4d01a960a92f73d635f2",
      "397ffe9178104f4ebea78a85a86ae72d",
      "3278787b08c9418cad26d25c2c01d208",
      "9530e510eb9a469db0934743867f54d0"
     ]
    },
    "id": "rZPU52GyaLTC",
    "outputId": "24eb244f-3188-4cb3-9649-7180fbc34dc7"
   },
   "outputs": [
    {
     "name": "stdout",
     "output_type": "stream",
     "text": [
      "(4, 2)\n",
      "(4, 2)\n"
     ]
    },
    {
     "name": "stderr",
     "output_type": "stream",
     "text": [
      "/usr/local/lib/python3.7/dist-packages/ipykernel_launcher.py:113: TqdmDeprecationWarning: This function will be removed in tqdm==5.0.0\n",
      "Please use `tqdm.notebook.tqdm` instead of `tqdm.tqdm_notebook`\n"
     ]
    },
    {
     "data": {
      "application/vnd.jupyter.widget-view+json": {
       "model_id": "5d156b587a54419ab0f7f3de5d7ee8b7",
       "version_major": 2,
       "version_minor": 0
      },
      "text/plain": [
       "  0%|          | 0/3000 [00:00<?, ?it/s]"
      ]
     },
     "metadata": {},
     "output_type": "display_data"
    },
    {
     "name": "stdout",
     "output_type": "stream",
     "text": [
      "Runtime of the algorithm is  1.682  seconds\n"
     ]
    },
    {
     "data": {
      "image/png": "[encoded data removed]",
      "text/plain": [
       "<Figure size 576x396 with 1 Axes>"
      ]
     },
     "metadata": {},
     "output_type": "display_data"
    }
   ],
   "source": [
    "\n",
    "\n",
    "dataset = pd.DataFrame({\n",
    "    'var1':   [0, 0, 1, 1],\n",
    "    'var2':   [0, 1, 0, 1],\n",
    "    'output': [0, 1, 1, 0],\n",
    "})\n",
    "dataset = pd.get_dummies(dataset, columns=['output'])\n",
    "dataset['output'] = pd.Series([0, 1, 1, 0])\n",
    "\n",
    "# starting time\n",
    "start = time.time()\n",
    "nn = NeuralNetwork([2,5,2], 'classification')\n",
    "history = nn.fit(dataset[['var1','var2']].values, dataset[['output_0','output_1']].values, epochs=3000, lr=0.01)\n",
    "plt.plot(history);\n",
    "plt.gca().set(xlabel='Epoch', ylabel='Cross-entropy', title='Training Plot {}'.format(rollnumber));\n",
    "# end time\n",
    "end = time.time()\n",
    "print(\"Runtime of the algorithm is \",round((end - start),3),\" seconds\")"
   ]
  },
  {
   "cell_type": "markdown",
   "metadata": {
    "heading_collapsed": true,
    "id": "3_auIRSE1X3P"
   },
   "source": [
    "## Task 4"
   ]
  },
  {
   "cell_type": "markdown",
   "metadata": {
    "hidden": true,
    "id": "IP7C4gt-1X3Q"
   },
   "source": [
    "Again, if it helps copy only your code from Task3 as a starting point in the next cell. To cap off this assignment you will fully vectorize your implementation. This means changing the primary functions again. \n",
    "After you do this, the runtime of the `fit` function will just be $O(e)$ (again, assuming all functions called in the loop take constant time)."
   ]
  },
  {
   "cell_type": "code",
   "execution_count": 168,
   "metadata": {
    "ExecuteTime": {
     "end_time": "2019-01-27T01:30:16.547173Z",
     "start_time": "2019-01-27T01:30:16.441918Z"
    },
    "hidden": true,
    "id": "VO5Qq8i21X3Q"
   },
   "outputs": [],
   "source": [
    "class NeuralNetwork():\n",
    "    @staticmethod\n",
    "    def mean_squared_error(y_pred, y_true):\n",
    "        # implement mean_squared_error function\n",
    "        mse = np.square(np.subtract(y_true,y_pred)).mean()\n",
    "        return mse\n",
    "    \n",
    "    @staticmethod\n",
    "    def cross_entropy_loss(y_pred, y_true):\n",
    "        # implement cross_entropy_loss function\n",
    "        entropy_loss = -np.mean(y_true*np.log(y_pred))\n",
    "        return entropy_loss\n",
    "    \n",
    "    @staticmethod\n",
    "    def accuracy(y_pred, y_true):\n",
    "        # implement accuracy function\n",
    "        return np.sum(y_pred == y_true)\n",
    "    \n",
    "    @staticmethod\n",
    "    def softmax(x):\n",
    "        # implement softmax function\n",
    "        sof_n = np.exp(x)\n",
    "        soft = sof_n/np.sum(sof_n)\n",
    "        return soft\n",
    "    \n",
    "    \n",
    "    @staticmethod\n",
    "    def sigmoid(x):\n",
    "        # implement sigmoid function\n",
    "        return 1/(1+np.exp(-x))\n",
    "    \n",
    "    \n",
    "    def __init__(self, nodes_per_layer, mode,confusion_matrix):\n",
    "        '''Creates a Feed-Forward Neural Network.\n",
    "        \"nodes_per_layer\" is a list containing number of nodes in each layer (including input layer)\n",
    "        \"mode\" can be one of 'regression' or 'classification' and controls the output activation as well as training metric'''\n",
    "        if len(nodes_per_layer) < 2:\n",
    "            raise ValueError('Network must have atleast 2 layers (input and output).')\n",
    "        if not (np.array(nodes_per_layer) > 0).all():\n",
    "            raise ValueError('Number of nodes in all layers must be positive.')\n",
    "        if mode not in ['classification','regression']:\n",
    "            raise ValueError('Only \"classification\" and \"regression\" modes are supported.')\n",
    "        \n",
    "\n",
    "        self.num_layers = len(nodes_per_layer) # includes input layer\n",
    "        self.nodes_per_layer = nodes_per_layer\n",
    "        self.input_shape = nodes_per_layer[0]\n",
    "        self.output_shape = nodes_per_layer[-1]\n",
    "        self.mode = mode\n",
    "        self.confusion_matrix=confusion_matrix\n",
    "        \n",
    "        self.__init_weights(nodes_per_layer)\n",
    "    \n",
    "    def __init_weights(self, nodes_per_layer):\n",
    "        '''Initializes all weights based on standard normal distribution and all biases to 0.'''\n",
    "        self.weights_ = []\n",
    "        self.biases_ = []\n",
    "        for i,_ in enumerate(nodes_per_layer):\n",
    "            if i == 0:\n",
    "                # skip input layer, it does not have weights/bias\n",
    "                continue\n",
    "\n",
    "            weight_matrix = np.random.normal(size=(nodes_per_layer[i-1], nodes_per_layer[i]))\n",
    "            self.weights_.append(weight_matrix)\n",
    "            bias_vector = np.zeros(shape=(nodes_per_layer[i],))\n",
    "            self.biases_.append(bias_vector)\n",
    "    \n",
    "\n",
    "    def forward_pass(self, input_data):\n",
    "        '''Executes the feed forward algorithm.\n",
    "        \"input_data\" is the input to the network in row-major form\n",
    "        Returns \"activations\", which is a list of all layer outputs (excluding input layer of course)'''\n",
    "        activations = []\n",
    "        x = np.dot(input_data,self.weights_[0])+self.biases_[0]\n",
    "        activations.append(self.sigmoid(x))\n",
    "        for i in range(1,self.num_layers-2):\n",
    "          x = np.dot(activations[i-1],self.weights_[i])+self.biases_[i]\n",
    "          activations.append(self.sigmoid(x))\n",
    "        x = np.dot(activations[-1],self.weights_[-1])+self.biases_[-1]\n",
    "        if self.mode=='classification': activations.append(self.softmax(x)) \n",
    "        else: activations.append(self.sigmoid(x))\n",
    "\n",
    "        return activations\n",
    "    \n",
    "    def backward_pass(self, targets, layer_activations):\n",
    "        '''Executes the backpropogation algorithm.\n",
    "        \"targets\" is the ground truth/labels\n",
    "        \"layer_activations\" are the return value of the forward pass step\n",
    "        Returns \"deltas\", which is a list containing weight update values for all layers (excluding the input layer of course)'''\n",
    "        deltas = []\n",
    "        x = np.multiply(layer_activations[-1]-targets ,layer_activations[-1]*(1-layer_activations[-1]))\n",
    "        deltas.append(x)\n",
    "        for i in range(len(layer_activations),0,-1):\n",
    "          if i == len(layer_activations): continue\n",
    "\n",
    "          x = np.multiply((np.dot(self.weights_[i],x.T)).T ,layer_activations[i-1]*(1-layer_activations[i-1]))\n",
    "          deltas.append(x)\n",
    "        deltas.reverse()\n",
    "        return deltas\n",
    "\n",
    "    def weight_update(self, deltas, layer_inputs, lr):\n",
    "        '''Executes the gradient descent algorithm.\n",
    "        \"deltas\" is return value of the backward pass step\n",
    "        \"layer_inputs\" is a list containing the inputs for all layers (including the input layer)\n",
    "        \"lr\" is the learning rate'''\n",
    "        for i in range(self.num_layers-1):\n",
    "          self.weights_[i] = self.weights_[i] - lr*(deltas[i].T.dot(layer_inputs[i])).T\n",
    "          self.biases_[i] = self.biases_[i] - lr*np.sum(deltas[i])\n",
    "\n",
    "\n",
    "    \n",
    "    def fit(self, Xs, Ys, epochs, lr=1e-3):\n",
    "        '''Trains the model on the given dataset for \"epoch\" number of itterations with step size=\"lr\". \n",
    "        Returns list containing loss for each epoch.'''\n",
    "        history = []\n",
    "        print(Xs.shape)\n",
    "        print(Ys.shape)\n",
    "        for epoch in tqdm_notebook(range(epochs)):\n",
    "            num_samples = Xs.shape[0]\n",
    "            for i in range(num_samples):\n",
    "                sample_input = Xs[i,:].reshape((1,self.input_shape))\n",
    "                sample_target = Ys[i,:].reshape((1,self.output_shape))\n",
    "\n",
    "            ## implement batch . Remove sample by sample\n",
    "            #sample_input = Xs\n",
    "            #sample_target = Ys    \n",
    "                activations =  self.forward_pass(sample_input) # Call forward_pass function  \n",
    "                deltas =  self.backward_pass(sample_target,activations) # Call backward_pass function  \n",
    "\n",
    "                layer_inputs = [sample_input] + activations[:-1]\n",
    "                self.weight_update(deltas, layer_inputs,lr) # Call weight_update function  \n",
    "            preds = self.predict(Xs) # Call predict function \n",
    "            if self.mode == 'regression':\n",
    "                current_loss = self.mean_squared_error(preds, Ys)\n",
    "            elif self.mode == 'classification':\n",
    "                current_loss = self.cross_entropy_loss(preds, Ys)\n",
    "            if  (epoch==epochs-1) and (self.mode == 'classification') and (self.confusion_matrix==True):\n",
    "                  confusion_mat=confusion_matrix(Ys.argmax(axis=1), preds.argmax(axis=1))  \n",
    "                  plot_confusion_matrix(confusion_mat)\n",
    "                  report = classification_report(Ys, np_utils.to_categorical(preds.argmax(axis=1)), target_names=class_labels)\n",
    "                  print(report)\n",
    "            history.append(current_loss)\n",
    "        return history\n",
    "    \n",
    "    def predict(self, Xs):\n",
    "        '''Returns the model predictions (output of the last layer) for the given \"Xs\".'''\n",
    "        predictions = []\n",
    "        num_samples = Xs.shape[0]\n",
    "        for i in range(num_samples):\n",
    "            sample = Xs[i,:].reshape((1,self.input_shape))\n",
    "            sample_prediction = self.forward_pass(sample)[-1]\n",
    "            predictions.append(sample_prediction.reshape((self.output_shape,)))\n",
    "        return np.array(predictions)\n",
    "        #return sample_prediction\n",
    "    \n",
    "    def evaluate(self, Xs, Ys):\n",
    "        '''Returns appropriate metrics for the task, calculated on the dataset passed to this method.'''\n",
    "        pred = self.predict(Xs)\n",
    "        if self.mode == 'regression':\n",
    "            return self.mean_squared_error(pred, Ys)\n",
    "        elif self.mode == 'classification':\n",
    "            return self.cross_entropy_loss(pred, Ys), self.accuracy(pred.argmax(axis=1), Ys.argmax(axis=1))\n",
    "    \n",
    "    def plot_model(self, filename):\n",
    "        '''Provide the \"filename\" as a string including file extension. Creates an image showing the model as a graph.'''\n",
    "        graph = pydot.Dot(graph_type='digraph')\n",
    "        graph.set_rankdir('LR')\n",
    "        graph.set_node_defaults(shape='circle', fontsize=0)\n",
    "        for i in range(self.num_layers-1):\n",
    "            for n1 in range(self.nodes_per_layer[i]):\n",
    "                for n2 in range(self.nodes_per_layer[i+1]):\n",
    "                    edge = pydot.Edge(f'l{i}n{n1}', f'l{i+1}n{n2}')\n",
    "                    graph.add_edge(edge)\n",
    "        graph.write_png(filename)\n"
   ]
  },
  {
   "cell_type": "markdown",
   "metadata": {
    "id": "DzuTlqp_fEVa"
   },
   "source": [
    "### Classification for Task4"
   ]
  },
  {
   "cell_type": "markdown",
   "metadata": {
    "id": "0_yCf5Yjc7Xs"
   },
   "source": [
    "You will repeat the classfication task on Cifar10 dataset. You can change the hidden layers and their sizes to acheive the optimal results. We have passed the confusion_matrix=True for this classification task only."
   ]
  },
  {
   "cell_type": "code",
   "execution_count": 170,
   "metadata": {
    "colab": {
     "base_uri": "https://localhost:8080/",
     "height": 1000,
     "referenced_widgets": [
      "54919fc22cf348bdb9f795de4c4a963e",
      "9d17e1a9b6934f1380d6bb6389ed94b7",
      "3d34461a88eb4fa58aa43f0de761123f",
      "03c6629cb13749bebaca1247d0194350",
      "f16f076574134eb5a6a09fd14614d1fe",
      "348d57491c824a6e8398e366ccb6b8a8",
      "d6f35933b46c4986b97990431c929f71",
      "c7bf2d033b894dd995519eb4411450c8",
      "ccc385b2498d4eaeafc293834515bd64",
      "a75ce6921c244ee185c6180dddaa1041",
      "e78af0ba8a0c4ccbabb6e45824c43444"
     ]
    },
    "id": "5uuby_MMaf4c",
    "outputId": "9f329cbe-1e29-4fc5-f557-ef8a148ab835"
   },
   "outputs": [
    {
     "name": "stdout",
     "output_type": "stream",
     "text": [
      "(5000, 3072)\n",
      "(5000, 10)\n"
     ]
    },
    {
     "name": "stderr",
     "output_type": "stream",
     "text": [
      "/usr/local/lib/python3.7/dist-packages/ipykernel_launcher.py:118: TqdmDeprecationWarning: This function will be removed in tqdm==5.0.0\n",
      "Please use `tqdm.notebook.tqdm` instead of `tqdm.tqdm_notebook`\n"
     ]
    },
    {
     "data": {
      "application/vnd.jupyter.widget-view+json": {
       "model_id": "54919fc22cf348bdb9f795de4c4a963e",
       "version_major": 2,
       "version_minor": 0
      },
      "text/plain": [
       "  0%|          | 0/120 [00:00<?, ?it/s]"
      ]
     },
     "metadata": {},
     "output_type": "display_data"
    },
    {
     "data": {
      "image/png": "[encoded data removed]",
      "text/plain": [
       "<Figure size 1080x648 with 2 Axes>"
      ]
     },
     "metadata": {},
     "output_type": "display_data"
    },
    {
     "name": "stdout",
     "output_type": "stream",
     "text": [
      "              precision    recall  f1-score   support\n",
      "\n",
      "    airplane       0.43      0.44      0.43       505\n",
      "  automobile       0.40      0.28      0.33       460\n",
      "        bird       0.29      0.17      0.22       519\n",
      "         cat       0.30      0.24      0.27       486\n",
      "        deer       0.34      0.36      0.35       519\n",
      "         dog       0.27      0.40      0.32       488\n",
      "        frog       0.34      0.50      0.41       519\n",
      "       horse       0.30      0.26      0.28       486\n",
      "        ship       0.43      0.45      0.44       520\n",
      "       truck       0.41      0.39      0.40       498\n",
      "\n",
      "   micro avg       0.35      0.35      0.35      5000\n",
      "   macro avg       0.35      0.35      0.35      5000\n",
      "weighted avg       0.35      0.35      0.35      5000\n",
      " samples avg       0.35      0.35      0.35      5000\n",
      "\n",
      "Runtime of the algorithm is  552.09  seconds\n"
     ]
    },
    {
     "data": {
      "image/png": "[encoded data removed]",
      "text/plain": [
       "<Figure size 576x396 with 1 Axes>"
      ]
     },
     "metadata": {},
     "output_type": "display_data"
    }
   ],
   "source": [
    "# starting time\n",
    "start = time.time()\n",
    "# Define the input size and output size of Cifar10 dataset\n",
    "\n",
    "# You can change the number of hidden layers and their sizes  to get the optimal results\n",
    "\n",
    "nn = NeuralNetwork(nodes_per_layer=[3072,20,20,10],mode='classification',confusion_matrix=True)\n",
    "#NuralNetwork(nodes_per_layer=[None,None,None],mode='classification',confusion_matrix=True)\n",
    "# You can tweak the learning rate and epochs to get the optimal results\n",
    "history = nn.fit(X_train, y_train, epochs=120, lr=0.01)\n",
    "plt.plot(history);\n",
    "plt.gca().set(xlabel='Epoch', ylabel='Cross-entropy', title='Training Plot {}'.format(rollnumber));\n",
    "# end time\n",
    "end = time.time()\n",
    "print(\"Runtime of the algorithm is \",round((end - start),3),\" seconds\")"
   ]
  },
  {
   "cell_type": "markdown",
   "metadata": {
    "id": "H6ejc_fZfAJt"
   },
   "source": [
    "### Regression for Task4"
   ]
  },
  {
   "cell_type": "code",
   "execution_count": 109,
   "metadata": {
    "hidden": true,
    "id": "W3VPzZYc1X3Q"
   },
   "outputs": [],
   "source": [
    "reg = LinearRegression()\n",
    "reg = reg.fit(data_x[:,0].reshape((200,1)), data_x[:,1].reshape((200,1)));\n",
    "d = np.arange(-1.5, 2.5, 0.1).reshape((40,1))\n",
    "preds = reg.predict(d)"
   ]
  },
  {
   "cell_type": "code",
   "execution_count": 110,
   "metadata": {
    "colab": {
     "base_uri": "https://localhost:8080/",
     "height": 400
    },
    "id": "GfMJiELGahgb",
    "outputId": "04ea9fa4-ffa6-4436-bc83-c2735a42149e"
   },
   "outputs": [
    {
     "data": {
      "image/png": "[encoded data removed]",
      "text/plain": [
       "<Figure size 576x396 with 1 Axes>"
      ]
     },
     "metadata": {},
     "output_type": "display_data"
    }
   ],
   "source": [
    "fig, ax = plt.subplots()\n",
    "ax.scatter(data_x[:,0].reshape((200,1)), data_x[:,1].reshape((200,1)));\n",
    "ax.plot(d.flatten(), preds.flatten(), c='tab:red', label='Prediction');\n",
    "ax.set(xlabel='Input Feature', ylabel='Target Variable', title='Linear Regression {}'.format(rollnumber));\n",
    "ax.legend();"
   ]
  },
  {
   "cell_type": "code",
   "execution_count": 167,
   "metadata": {
    "id": "HKgz6LMMajMb"
   },
   "outputs": [],
   "source": [
    "########################################### ALL BELOW IRRELEVENT \n",
    "# starting time\n",
    "start = time.time()\n",
    "\n",
    "nn = NeuralNetwork([1,10,20,10,1], 'regression')\n",
    "history = nn.fit(data_x[:,0].reshape((200,1)), data_x[:,1].reshape((200,1)), epochs=2000, lr=1e-4)\n",
    "preds = nn.predict(d)\n",
    "plt.plot(history);\n",
    "plt.gca().set(xlabel='Epoch', ylabel='MSE', title='Training Plot {}'.format(rollnumber));\n",
    "# end time\n",
    "end = time.time()\n",
    "print(\"Runtime of the algorithm is \",round((end - start),3),\" seconds\")"
   ]
  },
  {
   "cell_type": "code",
   "execution_count": 112,
   "metadata": {
    "colab": {
     "base_uri": "https://localhost:8080/",
     "height": 400
    },
    "id": "u5Dmuhw_akdw",
    "outputId": "aa262489-33d6-44f1-9188-10bad9d6f290"
   },
   "outputs": [
    {
     "data": {
      "image/png": "[encoded data removed]",
      "text/plain": [
       "<Figure size 576x396 with 1 Axes>"
      ]
     },
     "metadata": {},
     "output_type": "display_data"
    }
   ],
   "source": [
    "fig, ax = plt.subplots()\n",
    "ax.scatter(data_x[:,0].reshape((200,1)), data_x[:,1].reshape((200,1)));\n",
    "ax.plot(d.flatten(), preds.flatten(), c='tab:red', label='Prediction');\n",
    "ax.set(xlabel='Input Feature', ylabel='Target Variable', title='Neural Network Regression {}'.format(rollnumber));\n",
    "ax.legend();"
   ]
  },
  {
   "cell_type": "markdown",
   "metadata": {
    "id": "RBvu79d61X3R"
   },
   "source": [
    "## Dummy Regression Task"
   ]
  },
  {
   "cell_type": "code",
   "execution_count": 113,
   "metadata": {
    "ExecuteTime": {
     "end_time": "2019-01-27T01:33:04.290893Z",
     "start_time": "2019-01-27T01:33:03.930796Z"
    },
    "colab": {
     "base_uri": "https://localhost:8080/",
     "height": 224
    },
    "id": "R5Yx6qYw1X3R",
    "outputId": "30401ea1-0b51-4a5b-b9a1-e0c437d331b3"
   },
   "outputs": [
    {
     "name": "stdout",
     "output_type": "stream",
     "text": [
      "(150, 3)\n"
     ]
    },
    {
     "data": {
      "text/html": [
       "\n",
       "  <div id=\"df-8ba42a20-b2b0-4acb-b49c-8e88d2a8bccf\">\n",
       "    <div class=\"colab-df-container\">\n",
       "      <div>\n",
       "<style scoped>\n",
       "    .dataframe tbody tr th:only-of-type {\n",
       "        vertical-align: middle;\n",
       "    }\n",
       "\n",
       "    .dataframe tbody tr th {\n",
       "        vertical-align: top;\n",
       "    }\n",
       "\n",
       "    .dataframe thead th {\n",
       "        text-align: right;\n",
       "    }\n",
       "</style>\n",
       "<table border=\"1\" class=\"dataframe\">\n",
       "  <thead>\n",
       "    <tr style=\"text-align: right;\">\n",
       "      <th></th>\n",
       "      <th>var1</th>\n",
       "      <th>var2</th>\n",
       "      <th>output</th>\n",
       "    </tr>\n",
       "  </thead>\n",
       "  <tbody>\n",
       "    <tr>\n",
       "      <th>0</th>\n",
       "      <td>0.357289</td>\n",
       "      <td>0.067974</td>\n",
       "      <td>0.425263</td>\n",
       "    </tr>\n",
       "    <tr>\n",
       "      <th>1</th>\n",
       "      <td>0.415304</td>\n",
       "      <td>0.496221</td>\n",
       "      <td>0.911524</td>\n",
       "    </tr>\n",
       "    <tr>\n",
       "      <th>2</th>\n",
       "      <td>0.416575</td>\n",
       "      <td>0.481904</td>\n",
       "      <td>0.898479</td>\n",
       "    </tr>\n",
       "    <tr>\n",
       "      <th>3</th>\n",
       "      <td>0.235031</td>\n",
       "      <td>0.059515</td>\n",
       "      <td>0.294545</td>\n",
       "    </tr>\n",
       "    <tr>\n",
       "      <th>4</th>\n",
       "      <td>0.071154</td>\n",
       "      <td>0.249588</td>\n",
       "      <td>0.320742</td>\n",
       "    </tr>\n",
       "  </tbody>\n",
       "</table>\n",
       "</div>\n",
       "      <button class=\"colab-df-convert\" onclick=\"convertToInteractive('df-8ba42a20-b2b0-4acb-b49c-8e88d2a8bccf')\"\n",
       "              title=\"Convert this dataframe to an interactive table.\"\n",
       "              style=\"display:none;\">\n",
       "        \n",
       "  <svg xmlns=\"http://www.w3.org/2000/svg\" height=\"24px\"viewBox=\"0 0 24 24\"\n",
       "       width=\"24px\">\n",
       "    <path d=\"M0 0h24v24H0V0z\" fill=\"none\"/>\n",
       "    <path d=\"M18.56 5.44l.94 2.06.94-2.06 2.06-.94-2.06-.94-.94-2.06-.94 2.06-2.06.94zm-11 1L8.5 8.5l.94-2.06 2.06-.94-2.06-.94L8.5 2.5l-.94 2.06-2.06.94zm10 10l.94 2.06.94-2.06 2.06-.94-2.06-.94-.94-2.06-.94 2.06-2.06.94z\"/><path d=\"M17.41 7.96l-1.37-1.37c-.4-.4-.92-.59-1.43-.59-.52 0-1.04.2-1.43.59L10.3 9.45l-7.72 7.72c-.78.78-.78 2.05 0 2.83L4 21.41c.39.39.9.59 1.41.59.51 0 1.02-.2 1.41-.59l7.78-7.78 2.81-2.81c.8-.78.8-2.07 0-2.86zM5.41 20L4 18.59l7.72-7.72 1.47 1.35L5.41 20z\"/>\n",
       "  </svg>\n",
       "      </button>\n",
       "      \n",
       "  <style>\n",
       "    .colab-df-container {\n",
       "      display:flex;\n",
       "      flex-wrap:wrap;\n",
       "      gap: 12px;\n",
       "    }\n",
       "\n",
       "    .colab-df-convert {\n",
       "      background-color: #E8F0FE;\n",
       "      border: none;\n",
       "      border-radius: 50%;\n",
       "      cursor: pointer;\n",
       "      display: none;\n",
       "      fill: #1967D2;\n",
       "      height: 32px;\n",
       "      padding: 0 0 0 0;\n",
       "      width: 32px;\n",
       "    }\n",
       "\n",
       "    .colab-df-convert:hover {\n",
       "      background-color: #E2EBFA;\n",
       "      box-shadow: 0px 1px 2px rgba(60, 64, 67, 0.3), 0px 1px 3px 1px rgba(60, 64, 67, 0.15);\n",
       "      fill: #174EA6;\n",
       "    }\n",
       "\n",
       "    [theme=dark] .colab-df-convert {\n",
       "      background-color: #3B4455;\n",
       "      fill: #D2E3FC;\n",
       "    }\n",
       "\n",
       "    [theme=dark] .colab-df-convert:hover {\n",
       "      background-color: #434B5C;\n",
       "      box-shadow: 0px 1px 3px 1px rgba(0, 0, 0, 0.15);\n",
       "      filter: drop-shadow(0px 1px 2px rgba(0, 0, 0, 0.3));\n",
       "      fill: #FFFFFF;\n",
       "    }\n",
       "  </style>\n",
       "\n",
       "      <script>\n",
       "        const buttonEl =\n",
       "          document.querySelector('#df-8ba42a20-b2b0-4acb-b49c-8e88d2a8bccf button.colab-df-convert');\n",
       "        buttonEl.style.display =\n",
       "          google.colab.kernel.accessAllowed ? 'block' : 'none';\n",
       "\n",
       "        async function convertToInteractive(key) {\n",
       "          const element = document.querySelector('#df-8ba42a20-b2b0-4acb-b49c-8e88d2a8bccf');\n",
       "          const dataTable =\n",
       "            await google.colab.kernel.invokeFunction('convertToInteractive',\n",
       "                                                     [key], {});\n",
       "          if (!dataTable) return;\n",
       "\n",
       "          const docLinkHtml = 'Like what you see? Visit the ' +\n",
       "            '<a target=\"_blank\" href=https://colab.research.google.com/notebooks/data_table.ipynb>data table notebook</a>'\n",
       "            + ' to learn more about interactive tables.';\n",
       "          element.innerHTML = '';\n",
       "          dataTable['output_type'] = 'display_data';\n",
       "          await google.colab.output.renderOutput(dataTable, element);\n",
       "          const docLink = document.createElement('div');\n",
       "          docLink.innerHTML = docLinkHtml;\n",
       "          element.appendChild(docLink);\n",
       "        }\n",
       "      </script>\n",
       "    </div>\n",
       "  </div>\n",
       "  "
      ],
      "text/plain": [
       "       var1      var2    output\n",
       "0  0.357289  0.067974  0.425263\n",
       "1  0.415304  0.496221  0.911524\n",
       "2  0.416575  0.481904  0.898479\n",
       "3  0.235031  0.059515  0.294545\n",
       "4  0.071154  0.249588  0.320742"
      ]
     },
     "execution_count": 113,
     "metadata": {},
     "output_type": "execute_result"
    }
   ],
   "source": [
    "a = np.random.uniform(low=0.0, high=0.5, size=(150,))\n",
    "b = np.random.uniform(low=0.0, high=0.5, size=(150,))\n",
    "dataset = pd.DataFrame({\n",
    "    'var1':   a,\n",
    "    'var2':   b,\n",
    "    'output': a+b,\n",
    "})\n",
    "print(dataset.shape)\n",
    "dataset.head()"
   ]
  },
  {
   "cell_type": "code",
   "execution_count": 170,
   "metadata": {
    "id": "Uap7F2RwamJ0"
   },
   "outputs": [],
   "source": [
    "nn = NeuralNetwork([2,3,5,1], 'regression')\n",
    "nn.plot_model('graph.png')\n",
    "Image('graph.png')"
   ]
  },
  {
   "cell_type": "code",
   "execution_count": 170,
   "metadata": {
    "id": "iIE9otHZanbG"
   },
   "outputs": [],
   "source": [
    "history = nn.fit(dataset[['var1','var2']].values, dataset[['output']].values, epochs=2000, lr=0.001)\n",
    "plt.plot(history);\n",
    "plt.gca().set(xlabel='Epoch', ylabel='MSE', title='Training Plot {}'.format(rollnumber));"
   ]
  },
  {
   "cell_type": "code",
   "execution_count": 170,
   "metadata": {
    "id": "yzSetAzhaoru"
   },
   "outputs": [],
   "source": [
    "test_data = np.array([[0.4,0.1],\n",
    "                      [0.2,0.3]])\n",
    "nn.predict(test_data)"
   ]
  },
  {
   "cell_type": "markdown",
   "metadata": {
    "id": "wtcL--GE1X3S"
   },
   "source": [
    "## Dummy Classification Task"
   ]
  },
  {
   "cell_type": "code",
   "execution_count": 170,
   "metadata": {
    "ExecuteTime": {
     "end_time": "2019-01-27T01:33:56.370640Z",
     "start_time": "2019-01-27T01:33:56.320595Z"
    },
    "id": "O-i7Y1Ud1X3T"
   },
   "outputs": [],
   "source": [
    "# XOR logic operator\n",
    "dataset = pd.DataFrame({\n",
    "    'var1':   [0, 0, 1, 1],\n",
    "    'var2':   [0, 1, 0, 1],\n",
    "    'output': [0, 1, 1, 0],\n",
    "})\n",
    "dataset = pd.get_dummies(dataset, columns=['output'])\n",
    "dataset['output'] = pd.Series([0, 1, 1, 0])\n",
    "print(dataset.shape)\n",
    "dataset.head()\n",
    "# The columns 'output_0' and 'output_1' are one-hot encoded representation of the categorical column 'output'"
   ]
  },
  {
   "cell_type": "code",
   "execution_count": 170,
   "metadata": {
    "id": "2OgJQGb0arxB"
   },
   "outputs": [],
   "source": [
    "nn = NeuralNetwork([2,5,2], 'classification')\n",
    "nn.plot_model('graph.png')\n",
    "Image('graph.png')"
   ]
  },
  {
   "cell_type": "code",
   "execution_count": 170,
   "metadata": {
    "id": "E6KnM5JoatU_"
   },
   "outputs": [],
   "source": [
    "history = nn.fit(dataset[['var1','var2']].values, dataset[['output_0','output_1']].values, epochs=3000, lr=0.01)\n",
    "plt.plot(history);\n",
    "plt.gca().set(xlabel='Epoch', ylabel='Cross-entropy', title='Training Plot {}'.format(rollnumber));"
   ]
  },
  {
   "cell_type": "code",
   "execution_count": 170,
   "metadata": {
    "id": "pMeUOr0wau_T"
   },
   "outputs": [],
   "source": [
    "nn.predict(dataset[['var1','var2']].values).argmax(axis=1) == dataset[['output_0','output_1']].values.argmax(axis=1)"
   ]
  },
  {
   "cell_type": "markdown",
   "metadata": {
    "id": "ibnra4Hz1X3U"
   },
   "source": [
    "## Regression Demo"
   ]
  },
  {
   "cell_type": "markdown",
   "metadata": {
    "id": "aZTtDwbW1X3U"
   },
   "source": [
    "Code for Demos adapted from tutorial 1, refer to it if you need a refresher (available on LMS)"
   ]
  },
  {
   "cell_type": "code",
   "execution_count": null,
   "metadata": {
    "ExecuteTime": {
     "end_time": "2019-01-27T01:34:17.130755Z",
     "start_time": "2019-01-27T01:34:16.900688Z"
    },
    "id": "Qul7Yh7C1X3U"
   },
   "outputs": [],
   "source": [
    "data_x, _ = make_moons(200, noise=0.18)\n",
    "plt.scatter(data_x[:,0], data_x[:,1]);"
   ]
  },
  {
   "cell_type": "code",
   "execution_count": null,
   "metadata": {
    "ExecuteTime": {
     "end_time": "2019-01-27T01:34:20.010456Z",
     "start_time": "2019-01-27T01:34:19.400302Z"
    },
    "id": "zwNfkIqH1X3U"
   },
   "outputs": [],
   "source": [
    "reg = LinearRegression()\n",
    "reg = reg.fit(data_x[:,0].reshape((200,1)), data_x[:,1].reshape((200,1)));\n",
    "\n",
    "d = np.arange(-1.5, 2.5, 0.1).reshape((40,1))\n",
    "preds = reg.predict(d)"
   ]
  },
  {
   "cell_type": "code",
   "execution_count": null,
   "metadata": {
    "id": "P9w0I9RXaxK8"
   },
   "outputs": [],
   "source": [
    "fig, ax = plt.subplots()\n",
    "ax.scatter(data_x[:,0].reshape((200,1)), data_x[:,1].reshape((200,1)));\n",
    "ax.plot(d.flatten(), preds.flatten(), c='tab:red', label='Prediction');\n",
    "ax.set(xlabel='Input Feature', ylabel='Target Variable', title='Linear Regression {}'.format(rollnumber));\n",
    "ax.legend();"
   ]
  },
  {
   "cell_type": "code",
   "execution_count": null,
   "metadata": {
    "id": "hjByvs0zayqO"
   },
   "outputs": [],
   "source": [
    "nn = NeuralNetwork([1,10,20,10,1], 'regression')\n",
    "history = nn.fit(data_x[:,0].reshape((200,1)), data_x[:,1].reshape((200,1)), epochs=20000, lr=1e-4)\n",
    "preds = nn.predict(d)\n",
    "plt.plot(history);\n",
    "plt.gca().set(xlabel='Epoch', ylabel='MSE', title='Training Plot {}'.format(rollnumber));"
   ]
  },
  {
   "cell_type": "code",
   "execution_count": null,
   "metadata": {
    "id": "x1ke6w9eazu9"
   },
   "outputs": [],
   "source": [
    "fig, ax = plt.subplots()\n",
    "ax.scatter(data_x[:,0].reshape((200,1)), data_x[:,1].reshape((200,1)));\n",
    "ax.plot(d.flatten(), preds.flatten(), c='tab:red', label='Prediction');\n",
    "ax.set(xlabel='Input Feature', ylabel='Target Variable', title='Neural Network Regression {}'.format(rollnumber));\n",
    "ax.legend();"
   ]
  },
  {
   "cell_type": "markdown",
   "metadata": {
    "heading_collapsed": true,
    "id": "qQ9VCox-1X3V"
   },
   "source": [
    "## Classification Demo"
   ]
  },
  {
   "cell_type": "code",
   "execution_count": null,
   "metadata": {
    "ExecuteTime": {
     "end_time": "2019-01-27T01:35:05.630191Z",
     "start_time": "2019-01-27T01:35:05.600080Z"
    },
    "hidden": true,
    "id": "oF3wk8I-1X3V"
   },
   "outputs": [],
   "source": [
    "# Helper function to plot a decision boundary.\n",
    "# If you don't fully understand this function don't worry\n",
    "def plot_decision_boundary(pred_func, x_min, x_max, y_min, y_max, cmap, ax):\n",
    "    h = 0.01\n",
    "    # Generate a grid of points with distance h between them\n",
    "    xx, yy = np.meshgrid(np.arange(x_min, x_max, h), np.arange(y_min, y_max, h))\n",
    "    # Predict the function value for the whole gid\n",
    "    Z = pred_func(np.c_[xx.flatten(), yy.flatten()])\n",
    "    Z = Z.reshape(xx.shape)\n",
    "    # Plot the contour\n",
    "    ax.contourf(xx, yy, Z, cmap=cmap, alpha=0.5)"
   ]
  },
  {
   "cell_type": "code",
   "execution_count": null,
   "metadata": {
    "id": "_0ij_Xhya1Dp"
   },
   "outputs": [],
   "source": [
    "data_x, data_y = make_moons(200, noise=0.20)\n",
    "plt.scatter(data_x[:,0], data_x[:,1], c=data_y, cmap=plt.cm.Spectral);\n",
    "plt.gca().set(xlabel='Feature 1', ylabel='Feature 2');"
   ]
  },
  {
   "cell_type": "code",
   "execution_count": null,
   "metadata": {
    "ExecuteTime": {
     "end_time": "2019-01-27T01:35:09.680260Z",
     "start_time": "2019-01-27T01:35:09.399995Z"
    },
    "hidden": true,
    "id": "2XR9ALbf1X3W"
   },
   "outputs": [],
   "source": [
    "clf = LogisticRegression(solver='lbfgs')\n",
    "clf = clf.fit(data_x, data_y);"
   ]
  },
  {
   "cell_type": "code",
   "execution_count": null,
   "metadata": {
    "id": "Y-tNt9g3a2T6"
   },
   "outputs": [],
   "source": [
    "fig, ax = plt.subplots()\n",
    "x_min, x_max = data_x[:, 0].min() - .5, data_x[:, 0].max() + .5\n",
    "y_min, y_max = data_x[:, 1].min() - .5, data_x[:, 1].max() + .5\n",
    "plot_decision_boundary(lambda x: clf.predict(x), \n",
    "                       x_min, x_max, y_min, y_max, \n",
    "                       plt.cm.Spectral, ax)\n",
    "ax.scatter(data_x[:,0], data_x[:,1], c=data_y, cmap=plt.cm.Spectral);\n",
    "ax.set(xlabel='Feature 1', ylabel='Feature 2', title='Logistic Regression Classifier {}'.format(rollnumber));"
   ]
  },
  {
   "cell_type": "code",
   "execution_count": null,
   "metadata": {
    "id": "OBh65XGea5Kb"
   },
   "outputs": [],
   "source": [
    "nn = NeuralNetwork([2,10,10,2], 'classification')\n",
    "history = nn.fit(data_x, pd.get_dummies(data_y).values, epochs=2000, lr=1e-3)\n",
    "plt.plot(history);\n",
    "plt.gca().set(xlabel='Epoch', ylabel='Cross-entropy', title='Training Plot {}'.format(rollnumber));"
   ]
  },
  {
   "cell_type": "code",
   "execution_count": null,
   "metadata": {
    "id": "kt71VoK2a6Jp"
   },
   "outputs": [],
   "source": [
    "fig, ax = plt.subplots()\n",
    "x_min, x_max = data_x[:, 0].min() - .5, data_x[:, 0].max() + .5\n",
    "y_min, y_max = data_x[:, 1].min() - .5, data_x[:, 1].max() + .5\n",
    "plot_decision_boundary(lambda x: nn.predict(x).argmax(axis=1), \n",
    "                       x_min, x_max, y_min, y_max, \n",
    "                       plt.cm.Spectral, ax)\n",
    "ax.scatter(data_x[:,0], data_x[:,1], c=data_y, cmap=plt.cm.Spectral);\n",
    "ax.set(xlabel='Feature 1', ylabel='Feature 2', title='Neural Network Classifier {}'.format(rollnumber));"
   ]
  }
 ],
 "metadata": {
  "colab": {
   "collapsed_sections": [],
   "name": "PA2_HW1_Rollnumber_v1.ipynb",
   "provenance": []
  },
  "kernelspec": {
   "display_name": "Python 3",
   "language": "python",
   "name": "python3"
  },
  "language_info": {
   "codemirror_mode": {
    "name": "ipython",
    "version": 3
   },
   "file_extension": ".py",
   "mimetype": "text/x-python",
   "name": "python",
   "nbconvert_exporter": "python",
   "pygments_lexer": "ipython3",
   "version": "3.8.5"
  },
  "notify_time": "5",
  "toc": {
   "base_numbering": 1,
   "nav_menu": {},
   "number_sections": true,
   "sideBar": true,
   "skip_h1_title": false,
   "title_cell": "Table of Contents",
   "title_sidebar": "Contents",
   "toc_cell": false,
   "toc_position": {},
   "toc_section_display": true,
   "toc_window_display": false
  },
  "widgets": {
   "application/vnd.jupyter.widget-state+json": {
    "03c6629cb13749bebaca1247d0194350": {
     "model_module": "@jupyter-widgets/controls",
     "model_module_version": "1.5.0",
     "model_name": "FloatProgressModel",
     "state": {
      "_dom_classes": [],
      "_model_module": "@jupyter-widgets/controls",
      "_model_module_version": "1.5.0",
      "_model_name": "FloatProgressModel",
      "_view_count": null,
      "_view_module": "@jupyter-widgets/controls",
      "_view_module_version": "1.5.0",
      "_view_name": "ProgressView",
      "bar_style": "success",
      "description": "",
      "description_tooltip": null,
      "layout": "IPY_MODEL_ccc385b2498d4eaeafc293834515bd64",
      "max": 120,
      "min": 0,
      "orientation": "horizontal",
      "style": "IPY_MODEL_c7bf2d033b894dd995519eb4411450c8",
      "value": 120
     }
    },
    "042c6d8b6a8441599787b4449daf2558": {
     "model_module": "@jupyter-widgets/controls",
     "model_module_version": "1.5.0",
     "model_name": "ProgressStyleModel",
     "state": {
      "_model_module": "@jupyter-widgets/controls",
      "_model_module_version": "1.5.0",
      "_model_name": "ProgressStyleModel",
      "_view_count": null,
      "_view_module": "@jupyter-widgets/base",
      "_view_module_version": "1.2.0",
      "_view_name": "StyleView",
      "bar_color": null,
      "description_width": ""
     }
    },
    "0b347ca851a047088c516943e52cd419": {
     "model_module": "@jupyter-widgets/controls",
     "model_module_version": "1.5.0",
     "model_name": "HTMLModel",
     "state": {
      "_dom_classes": [],
      "_model_module": "@jupyter-widgets/controls",
      "_model_module_version": "1.5.0",
      "_model_name": "HTMLModel",
      "_view_count": null,
      "_view_module": "@jupyter-widgets/controls",
      "_view_module_version": "1.5.0",
      "_view_name": "HTMLView",
      "description": "",
      "description_tooltip": null,
      "layout": "IPY_MODEL_cf0e9014ab2645e2939e93e61a18a08b",
      "placeholder": "​",
      "style": "IPY_MODEL_9c26b34169c74caa98c96bc0e3cfb8d5",
      "value": "100%"
     }
    },
    "0f37785dbe394d818dbb38fc995ba96b": {
     "model_module": "@jupyter-widgets/base",
     "model_module_version": "1.2.0",
     "model_name": "LayoutModel",
     "state": {
      "_model_module": "@jupyter-widgets/base",
      "_model_module_version": "1.2.0",
      "_model_name": "LayoutModel",
      "_view_count": null,
      "_view_module": "@jupyter-widgets/base",
      "_view_module_version": "1.2.0",
      "_view_name": "LayoutView",
      "align_content": null,
      "align_items": null,
      "align_self": null,
      "border": null,
      "bottom": null,
      "display": null,
      "flex": null,
      "flex_flow": null,
      "grid_area": null,
      "grid_auto_columns": null,
      "grid_auto_flow": null,
      "grid_auto_rows": null,
      "grid_column": null,
      "grid_gap": null,
      "grid_row": null,
      "grid_template_areas": null,
      "grid_template_columns": null,
      "grid_template_rows": null,
      "height": null,
      "justify_content": null,
      "justify_items": null,
      "left": null,
      "margin": null,
      "max_height": null,
      "max_width": null,
      "min_height": null,
      "min_width": null,
      "object_fit": null,
      "object_position": null,
      "order": null,
      "overflow": null,
      "overflow_x": null,
      "overflow_y": null,
      "padding": null,
      "right": null,
      "top": null,
      "visibility": null,
      "width": null
     }
    },
    "10d5aae195eb41ff8a2ce1d2da8e6547": {
     "model_module": "@jupyter-widgets/controls",
     "model_module_version": "1.5.0",
     "model_name": "FloatProgressModel",
     "state": {
      "_dom_classes": [],
      "_model_module": "@jupyter-widgets/controls",
      "_model_module_version": "1.5.0",
      "_model_name": "FloatProgressModel",
      "_view_count": null,
      "_view_module": "@jupyter-widgets/controls",
      "_view_module_version": "1.5.0",
      "_view_name": "ProgressView",
      "bar_style": "success",
      "description": "",
      "description_tooltip": null,
      "layout": "IPY_MODEL_397ffe9178104f4ebea78a85a86ae72d",
      "max": 3000,
      "min": 0,
      "orientation": "horizontal",
      "style": "IPY_MODEL_fc25b1cad2df4d01a960a92f73d635f2",
      "value": 3000
     }
    },
    "14e9176291ac42219954829c20e647fe": {
     "model_module": "@jupyter-widgets/base",
     "model_module_version": "1.2.0",
     "model_name": "LayoutModel",
     "state": {
      "_model_module": "@jupyter-widgets/base",
      "_model_module_version": "1.2.0",
      "_model_name": "LayoutModel",
      "_view_count": null,
      "_view_module": "@jupyter-widgets/base",
      "_view_module_version": "1.2.0",
      "_view_name": "LayoutView",
      "align_content": null,
      "align_items": null,
      "align_self": null,
      "border": null,
      "bottom": null,
      "display": null,
      "flex": null,
      "flex_flow": null,
      "grid_area": null,
      "grid_auto_columns": null,
      "grid_auto_flow": null,
      "grid_auto_rows": null,
      "grid_column": null,
      "grid_gap": null,
      "grid_row": null,
      "grid_template_areas": null,
      "grid_template_columns": null,
      "grid_template_rows": null,
      "height": null,
      "justify_content": null,
      "justify_items": null,
      "left": null,
      "margin": null,
      "max_height": null,
      "max_width": null,
      "min_height": null,
      "min_width": null,
      "object_fit": null,
      "object_position": null,
      "order": null,
      "overflow": null,
      "overflow_x": null,
      "overflow_y": null,
      "padding": null,
      "right": null,
      "top": null,
      "visibility": null,
      "width": null
     }
    },
    "16910663f96247a7aa9ee201a30073ba": {
     "model_module": "@jupyter-widgets/base",
     "model_module_version": "1.2.0",
     "model_name": "LayoutModel",
     "state": {
      "_model_module": "@jupyter-widgets/base",
      "_model_module_version": "1.2.0",
      "_model_name": "LayoutModel",
      "_view_count": null,
      "_view_module": "@jupyter-widgets/base",
      "_view_module_version": "1.2.0",
      "_view_name": "LayoutView",
      "align_content": null,
      "align_items": null,
      "align_self": null,
      "border": null,
      "bottom": null,
      "display": null,
      "flex": null,
      "flex_flow": null,
      "grid_area": null,
      "grid_auto_columns": null,
      "grid_auto_flow": null,
      "grid_auto_rows": null,
      "grid_column": null,
      "grid_gap": null,
      "grid_row": null,
      "grid_template_areas": null,
      "grid_template_columns": null,
      "grid_template_rows": null,
      "height": null,
      "justify_content": null,
      "justify_items": null,
      "left": null,
      "margin": null,
      "max_height": null,
      "max_width": null,
      "min_height": null,
      "min_width": null,
      "object_fit": null,
      "object_position": null,
      "order": null,
      "overflow": null,
      "overflow_x": null,
      "overflow_y": null,
      "padding": null,
      "right": null,
      "top": null,
      "visibility": null,
      "width": null
     }
    },
    "2a4a9e0199714548b260848efe17b208": {
     "model_module": "@jupyter-widgets/controls",
     "model_module_version": "1.5.0",
     "model_name": "HTMLModel",
     "state": {
      "_dom_classes": [],
      "_model_module": "@jupyter-widgets/controls",
      "_model_module_version": "1.5.0",
      "_model_name": "HTMLModel",
      "_view_count": null,
      "_view_module": "@jupyter-widgets/controls",
      "_view_module_version": "1.5.0",
      "_view_name": "HTMLView",
      "description": "",
      "description_tooltip": null,
      "layout": "IPY_MODEL_0f37785dbe394d818dbb38fc995ba96b",
      "placeholder": "​",
      "style": "IPY_MODEL_9aa82afe4a1940d89667d3d0a652a9e4",
      "value": "100%"
     }
    },
    "3278787b08c9418cad26d25c2c01d208": {
     "model_module": "@jupyter-widgets/controls",
     "model_module_version": "1.5.0",
     "model_name": "DescriptionStyleModel",
     "state": {
      "_model_module": "@jupyter-widgets/controls",
      "_model_module_version": "1.5.0",
      "_model_name": "DescriptionStyleModel",
      "_view_count": null,
      "_view_module": "@jupyter-widgets/base",
      "_view_module_version": "1.2.0",
      "_view_name": "StyleView",
      "description_width": ""
     }
    },
    "348d57491c824a6e8398e366ccb6b8a8": {
     "model_module": "@jupyter-widgets/controls",
     "model_module_version": "1.5.0",
     "model_name": "DescriptionStyleModel",
     "state": {
      "_model_module": "@jupyter-widgets/controls",
      "_model_module_version": "1.5.0",
      "_model_name": "DescriptionStyleModel",
      "_view_count": null,
      "_view_module": "@jupyter-widgets/base",
      "_view_module_version": "1.2.0",
      "_view_name": "StyleView",
      "description_width": ""
     }
    },
    "389b1b6fb4ab49469a4fade6ea11b9bf": {
     "model_module": "@jupyter-widgets/controls",
     "model_module_version": "1.5.0",
     "model_name": "ProgressStyleModel",
     "state": {
      "_model_module": "@jupyter-widgets/controls",
      "_model_module_version": "1.5.0",
      "_model_name": "ProgressStyleModel",
      "_view_count": null,
      "_view_module": "@jupyter-widgets/base",
      "_view_module_version": "1.2.0",
      "_view_name": "StyleView",
      "bar_color": null,
      "description_width": ""
     }
    },
    "397ffe9178104f4ebea78a85a86ae72d": {
     "model_module": "@jupyter-widgets/base",
     "model_module_version": "1.2.0",
     "model_name": "LayoutModel",
     "state": {
      "_model_module": "@jupyter-widgets/base",
      "_model_module_version": "1.2.0",
      "_model_name": "LayoutModel",
      "_view_count": null,
      "_view_module": "@jupyter-widgets/base",
      "_view_module_version": "1.2.0",
      "_view_name": "LayoutView",
      "align_content": null,
      "align_items": null,
      "align_self": null,
      "border": null,
      "bottom": null,
      "display": null,
      "flex": null,
      "flex_flow": null,
      "grid_area": null,
      "grid_auto_columns": null,
      "grid_auto_flow": null,
      "grid_auto_rows": null,
      "grid_column": null,
      "grid_gap": null,
      "grid_row": null,
      "grid_template_areas": null,
      "grid_template_columns": null,
      "grid_template_rows": null,
      "height": null,
      "justify_content": null,
      "justify_items": null,
      "left": null,
      "margin": null,
      "max_height": null,
      "max_width": null,
      "min_height": null,
      "min_width": null,
      "object_fit": null,
      "object_position": null,
      "order": null,
      "overflow": null,
      "overflow_x": null,
      "overflow_y": null,
      "padding": null,
      "right": null,
      "top": null,
      "visibility": null,
      "width": null
     }
    },
    "3b2232916ce04eb4b1748a6febb9b0c3": {
     "model_module": "@jupyter-widgets/controls",
     "model_module_version": "1.5.0",
     "model_name": "DescriptionStyleModel",
     "state": {
      "_model_module": "@jupyter-widgets/controls",
      "_model_module_version": "1.5.0",
      "_model_name": "DescriptionStyleModel",
      "_view_count": null,
      "_view_module": "@jupyter-widgets/base",
      "_view_module_version": "1.2.0",
      "_view_name": "StyleView",
      "description_width": ""
     }
    },
    "3d34461a88eb4fa58aa43f0de761123f": {
     "model_module": "@jupyter-widgets/controls",
     "model_module_version": "1.5.0",
     "model_name": "HTMLModel",
     "state": {
      "_dom_classes": [],
      "_model_module": "@jupyter-widgets/controls",
      "_model_module_version": "1.5.0",
      "_model_name": "HTMLModel",
      "_view_count": null,
      "_view_module": "@jupyter-widgets/controls",
      "_view_module_version": "1.5.0",
      "_view_name": "HTMLView",
      "description": "",
      "description_tooltip": null,
      "layout": "IPY_MODEL_d6f35933b46c4986b97990431c929f71",
      "placeholder": "​",
      "style": "IPY_MODEL_348d57491c824a6e8398e366ccb6b8a8",
      "value": "100%"
     }
    },
    "431c5767a3444bb3a9aacbdc734e7173": {
     "model_module": "@jupyter-widgets/controls",
     "model_module_version": "1.5.0",
     "model_name": "HTMLModel",
     "state": {
      "_dom_classes": [],
      "_model_module": "@jupyter-widgets/controls",
      "_model_module_version": "1.5.0",
      "_model_name": "HTMLModel",
      "_view_count": null,
      "_view_module": "@jupyter-widgets/controls",
      "_view_module_version": "1.5.0",
      "_view_name": "HTMLView",
      "description": "",
      "description_tooltip": null,
      "layout": "IPY_MODEL_626e97e185e642149d963a835588b198",
      "placeholder": "​",
      "style": "IPY_MODEL_3b2232916ce04eb4b1748a6febb9b0c3",
      "value": "100%"
     }
    },
    "50de069dc3c346feb3f26262659fc32f": {
     "model_module": "@jupyter-widgets/controls",
     "model_module_version": "1.5.0",
     "model_name": "FloatProgressModel",
     "state": {
      "_dom_classes": [],
      "_model_module": "@jupyter-widgets/controls",
      "_model_module_version": "1.5.0",
      "_model_name": "FloatProgressModel",
      "_view_count": null,
      "_view_module": "@jupyter-widgets/controls",
      "_view_module_version": "1.5.0",
      "_view_name": "ProgressView",
      "bar_style": "success",
      "description": "",
      "description_tooltip": null,
      "layout": "IPY_MODEL_14e9176291ac42219954829c20e647fe",
      "max": 200,
      "min": 0,
      "orientation": "horizontal",
      "style": "IPY_MODEL_389b1b6fb4ab49469a4fade6ea11b9bf",
      "value": 200
     }
    },
    "52735452584f4055a7e48514f83f5a5b": {
     "model_module": "@jupyter-widgets/controls",
     "model_module_version": "1.5.0",
     "model_name": "HTMLModel",
     "state": {
      "_dom_classes": [],
      "_model_module": "@jupyter-widgets/controls",
      "_model_module_version": "1.5.0",
      "_model_name": "HTMLModel",
      "_view_count": null,
      "_view_module": "@jupyter-widgets/controls",
      "_view_module_version": "1.5.0",
      "_view_name": "HTMLView",
      "description": "",
      "description_tooltip": null,
      "layout": "IPY_MODEL_f3699fc6d31a493da69379e6115be462",
      "placeholder": "​",
      "style": "IPY_MODEL_c23683e247d4475a83d6392a91320ba6",
      "value": " 200/200 [00:03&lt;00:00, 64.54it/s]"
     }
    },
    "54919fc22cf348bdb9f795de4c4a963e": {
     "model_module": "@jupyter-widgets/controls",
     "model_module_version": "1.5.0",
     "model_name": "HBoxModel",
     "state": {
      "_dom_classes": [],
      "_model_module": "@jupyter-widgets/controls",
      "_model_module_version": "1.5.0",
      "_model_name": "HBoxModel",
      "_view_count": null,
      "_view_module": "@jupyter-widgets/controls",
      "_view_module_version": "1.5.0",
      "_view_name": "HBoxView",
      "box_style": "",
      "children": [
       "IPY_MODEL_3d34461a88eb4fa58aa43f0de761123f",
       "IPY_MODEL_03c6629cb13749bebaca1247d0194350",
       "IPY_MODEL_f16f076574134eb5a6a09fd14614d1fe"
      ],
      "layout": "IPY_MODEL_9d17e1a9b6934f1380d6bb6389ed94b7"
     }
    },
    "5d156b587a54419ab0f7f3de5d7ee8b7": {
     "model_module": "@jupyter-widgets/controls",
     "model_module_version": "1.5.0",
     "model_name": "HBoxModel",
     "state": {
      "_dom_classes": [],
      "_model_module": "@jupyter-widgets/controls",
      "_model_module_version": "1.5.0",
      "_model_name": "HBoxModel",
      "_view_count": null,
      "_view_module": "@jupyter-widgets/controls",
      "_view_module_version": "1.5.0",
      "_view_name": "HBoxView",
      "box_style": "",
      "children": [
       "IPY_MODEL_2a4a9e0199714548b260848efe17b208",
       "IPY_MODEL_10d5aae195eb41ff8a2ce1d2da8e6547",
       "IPY_MODEL_f5cf5153f67c4b22a092a1a6b155ec97"
      ],
      "layout": "IPY_MODEL_e0680f61833747d89dc06d114595f83a"
     }
    },
    "626e97e185e642149d963a835588b198": {
     "model_module": "@jupyter-widgets/base",
     "model_module_version": "1.2.0",
     "model_name": "LayoutModel",
     "state": {
      "_model_module": "@jupyter-widgets/base",
      "_model_module_version": "1.2.0",
      "_model_name": "LayoutModel",
      "_view_count": null,
      "_view_module": "@jupyter-widgets/base",
      "_view_module_version": "1.2.0",
      "_view_name": "LayoutView",
      "align_content": null,
      "align_items": null,
      "align_self": null,
      "border": null,
      "bottom": null,
      "display": null,
      "flex": null,
      "flex_flow": null,
      "grid_area": null,
      "grid_auto_columns": null,
      "grid_auto_flow": null,
      "grid_auto_rows": null,
      "grid_column": null,
      "grid_gap": null,
      "grid_row": null,
      "grid_template_areas": null,
      "grid_template_columns": null,
      "grid_template_rows": null,
      "height": null,
      "justify_content": null,
      "justify_items": null,
      "left": null,
      "margin": null,
      "max_height": null,
      "max_width": null,
      "min_height": null,
      "min_width": null,
      "object_fit": null,
      "object_position": null,
      "order": null,
      "overflow": null,
      "overflow_x": null,
      "overflow_y": null,
      "padding": null,
      "right": null,
      "top": null,
      "visibility": null,
      "width": null
     }
    },
    "72d2f8f9f1394da3b1d2754d6c409250": {
     "model_module": "@jupyter-widgets/controls",
     "model_module_version": "1.5.0",
     "model_name": "HBoxModel",
     "state": {
      "_dom_classes": [],
      "_model_module": "@jupyter-widgets/controls",
      "_model_module_version": "1.5.0",
      "_model_name": "HBoxModel",
      "_view_count": null,
      "_view_module": "@jupyter-widgets/controls",
      "_view_module_version": "1.5.0",
      "_view_name": "HBoxView",
      "box_style": "",
      "children": [
       "IPY_MODEL_431c5767a3444bb3a9aacbdc734e7173",
       "IPY_MODEL_50de069dc3c346feb3f26262659fc32f",
       "IPY_MODEL_c73b0ccdc928456597ad1c756b4b613e"
      ],
      "layout": "IPY_MODEL_b30281451d3d4675bed0fc6ea8e16699"
     }
    },
    "74b647c8b174491d8ec32677ff47d818": {
     "model_module": "@jupyter-widgets/controls",
     "model_module_version": "1.5.0",
     "model_name": "FloatProgressModel",
     "state": {
      "_dom_classes": [],
      "_model_module": "@jupyter-widgets/controls",
      "_model_module_version": "1.5.0",
      "_model_name": "FloatProgressModel",
      "_view_count": null,
      "_view_module": "@jupyter-widgets/controls",
      "_view_module_version": "1.5.0",
      "_view_name": "ProgressView",
      "bar_style": "success",
      "description": "",
      "description_tooltip": null,
      "layout": "IPY_MODEL_aee2e4d9fca44a179883a04062561a14",
      "max": 200,
      "min": 0,
      "orientation": "horizontal",
      "style": "IPY_MODEL_042c6d8b6a8441599787b4449daf2558",
      "value": 200
     }
    },
    "9030ade47c634beb84492ab2024c26a3": {
     "model_module": "@jupyter-widgets/controls",
     "model_module_version": "1.5.0",
     "model_name": "HBoxModel",
     "state": {
      "_dom_classes": [],
      "_model_module": "@jupyter-widgets/controls",
      "_model_module_version": "1.5.0",
      "_model_name": "HBoxModel",
      "_view_count": null,
      "_view_module": "@jupyter-widgets/controls",
      "_view_module_version": "1.5.0",
      "_view_name": "HBoxView",
      "box_style": "",
      "children": [
       "IPY_MODEL_0b347ca851a047088c516943e52cd419",
       "IPY_MODEL_74b647c8b174491d8ec32677ff47d818",
       "IPY_MODEL_52735452584f4055a7e48514f83f5a5b"
      ],
      "layout": "IPY_MODEL_16910663f96247a7aa9ee201a30073ba"
     }
    },
    "9530e510eb9a469db0934743867f54d0": {
     "model_module": "@jupyter-widgets/base",
     "model_module_version": "1.2.0",
     "model_name": "LayoutModel",
     "state": {
      "_model_module": "@jupyter-widgets/base",
      "_model_module_version": "1.2.0",
      "_model_name": "LayoutModel",
      "_view_count": null,
      "_view_module": "@jupyter-widgets/base",
      "_view_module_version": "1.2.0",
      "_view_name": "LayoutView",
      "align_content": null,
      "align_items": null,
      "align_self": null,
      "border": null,
      "bottom": null,
      "display": null,
      "flex": null,
      "flex_flow": null,
      "grid_area": null,
      "grid_auto_columns": null,
      "grid_auto_flow": null,
      "grid_auto_rows": null,
      "grid_column": null,
      "grid_gap": null,
      "grid_row": null,
      "grid_template_areas": null,
      "grid_template_columns": null,
      "grid_template_rows": null,
      "height": null,
      "justify_content": null,
      "justify_items": null,
      "left": null,
      "margin": null,
      "max_height": null,
      "max_width": null,
      "min_height": null,
      "min_width": null,
      "object_fit": null,
      "object_position": null,
      "order": null,
      "overflow": null,
      "overflow_x": null,
      "overflow_y": null,
      "padding": null,
      "right": null,
      "top": null,
      "visibility": null,
      "width": null
     }
    },
    "960accc3785c49f7a9ae8f91f2a23da9": {
     "model_module": "@jupyter-widgets/controls",
     "model_module_version": "1.5.0",
     "model_name": "DescriptionStyleModel",
     "state": {
      "_model_module": "@jupyter-widgets/controls",
      "_model_module_version": "1.5.0",
      "_model_name": "DescriptionStyleModel",
      "_view_count": null,
      "_view_module": "@jupyter-widgets/base",
      "_view_module_version": "1.2.0",
      "_view_name": "StyleView",
      "description_width": ""
     }
    },
    "9aa82afe4a1940d89667d3d0a652a9e4": {
     "model_module": "@jupyter-widgets/controls",
     "model_module_version": "1.5.0",
     "model_name": "DescriptionStyleModel",
     "state": {
      "_model_module": "@jupyter-widgets/controls",
      "_model_module_version": "1.5.0",
      "_model_name": "DescriptionStyleModel",
      "_view_count": null,
      "_view_module": "@jupyter-widgets/base",
      "_view_module_version": "1.2.0",
      "_view_name": "StyleView",
      "description_width": ""
     }
    },
    "9c26b34169c74caa98c96bc0e3cfb8d5": {
     "model_module": "@jupyter-widgets/controls",
     "model_module_version": "1.5.0",
     "model_name": "DescriptionStyleModel",
     "state": {
      "_model_module": "@jupyter-widgets/controls",
      "_model_module_version": "1.5.0",
      "_model_name": "DescriptionStyleModel",
      "_view_count": null,
      "_view_module": "@jupyter-widgets/base",
      "_view_module_version": "1.2.0",
      "_view_name": "StyleView",
      "description_width": ""
     }
    },
    "9d17e1a9b6934f1380d6bb6389ed94b7": {
     "model_module": "@jupyter-widgets/base",
     "model_module_version": "1.2.0",
     "model_name": "LayoutModel",
     "state": {
      "_model_module": "@jupyter-widgets/base",
      "_model_module_version": "1.2.0",
      "_model_name": "LayoutModel",
      "_view_count": null,
      "_view_module": "@jupyter-widgets/base",
      "_view_module_version": "1.2.0",
      "_view_name": "LayoutView",
      "align_content": null,
      "align_items": null,
      "align_self": null,
      "border": null,
      "bottom": null,
      "display": null,
      "flex": null,
      "flex_flow": null,
      "grid_area": null,
      "grid_auto_columns": null,
      "grid_auto_flow": null,
      "grid_auto_rows": null,
      "grid_column": null,
      "grid_gap": null,
      "grid_row": null,
      "grid_template_areas": null,
      "grid_template_columns": null,
      "grid_template_rows": null,
      "height": null,
      "justify_content": null,
      "justify_items": null,
      "left": null,
      "margin": null,
      "max_height": null,
      "max_width": null,
      "min_height": null,
      "min_width": null,
      "object_fit": null,
      "object_position": null,
      "order": null,
      "overflow": null,
      "overflow_x": null,
      "overflow_y": null,
      "padding": null,
      "right": null,
      "top": null,
      "visibility": null,
      "width": null
     }
    },
    "a75ce6921c244ee185c6180dddaa1041": {
     "model_module": "@jupyter-widgets/controls",
     "model_module_version": "1.5.0",
     "model_name": "DescriptionStyleModel",
     "state": {
      "_model_module": "@jupyter-widgets/controls",
      "_model_module_version": "1.5.0",
      "_model_name": "DescriptionStyleModel",
      "_view_count": null,
      "_view_module": "@jupyter-widgets/base",
      "_view_module_version": "1.2.0",
      "_view_name": "StyleView",
      "description_width": ""
     }
    },
    "aee2e4d9fca44a179883a04062561a14": {
     "model_module": "@jupyter-widgets/base",
     "model_module_version": "1.2.0",
     "model_name": "LayoutModel",
     "state": {
      "_model_module": "@jupyter-widgets/base",
      "_model_module_version": "1.2.0",
      "_model_name": "LayoutModel",
      "_view_count": null,
      "_view_module": "@jupyter-widgets/base",
      "_view_module_version": "1.2.0",
      "_view_name": "LayoutView",
      "align_content": null,
      "align_items": null,
      "align_self": null,
      "border": null,
      "bottom": null,
      "display": null,
      "flex": null,
      "flex_flow": null,
      "grid_area": null,
      "grid_auto_columns": null,
      "grid_auto_flow": null,
      "grid_auto_rows": null,
      "grid_column": null,
      "grid_gap": null,
      "grid_row": null,
      "grid_template_areas": null,
      "grid_template_columns": null,
      "grid_template_rows": null,
      "height": null,
      "justify_content": null,
      "justify_items": null,
      "left": null,
      "margin": null,
      "max_height": null,
      "max_width": null,
      "min_height": null,
      "min_width": null,
      "object_fit": null,
      "object_position": null,
      "order": null,
      "overflow": null,
      "overflow_x": null,
      "overflow_y": null,
      "padding": null,
      "right": null,
      "top": null,
      "visibility": null,
      "width": null
     }
    },
    "b30281451d3d4675bed0fc6ea8e16699": {
     "model_module": "@jupyter-widgets/base",
     "model_module_version": "1.2.0",
     "model_name": "LayoutModel",
     "state": {
      "_model_module": "@jupyter-widgets/base",
      "_model_module_version": "1.2.0",
      "_model_name": "LayoutModel",
      "_view_count": null,
      "_view_module": "@jupyter-widgets/base",
      "_view_module_version": "1.2.0",
      "_view_name": "LayoutView",
      "align_content": null,
      "align_items": null,
      "align_self": null,
      "border": null,
      "bottom": null,
      "display": null,
      "flex": null,
      "flex_flow": null,
      "grid_area": null,
      "grid_auto_columns": null,
      "grid_auto_flow": null,
      "grid_auto_rows": null,
      "grid_column": null,
      "grid_gap": null,
      "grid_row": null,
      "grid_template_areas": null,
      "grid_template_columns": null,
      "grid_template_rows": null,
      "height": null,
      "justify_content": null,
      "justify_items": null,
      "left": null,
      "margin": null,
      "max_height": null,
      "max_width": null,
      "min_height": null,
      "min_width": null,
      "object_fit": null,
      "object_position": null,
      "order": null,
      "overflow": null,
      "overflow_x": null,
      "overflow_y": null,
      "padding": null,
      "right": null,
      "top": null,
      "visibility": null,
      "width": null
     }
    },
    "c23683e247d4475a83d6392a91320ba6": {
     "model_module": "@jupyter-widgets/controls",
     "model_module_version": "1.5.0",
     "model_name": "DescriptionStyleModel",
     "state": {
      "_model_module": "@jupyter-widgets/controls",
      "_model_module_version": "1.5.0",
      "_model_name": "DescriptionStyleModel",
      "_view_count": null,
      "_view_module": "@jupyter-widgets/base",
      "_view_module_version": "1.2.0",
      "_view_name": "StyleView",
      "description_width": ""
     }
    },
    "c73b0ccdc928456597ad1c756b4b613e": {
     "model_module": "@jupyter-widgets/controls",
     "model_module_version": "1.5.0",
     "model_name": "HTMLModel",
     "state": {
      "_dom_classes": [],
      "_model_module": "@jupyter-widgets/controls",
      "_model_module_version": "1.5.0",
      "_model_name": "HTMLModel",
      "_view_count": null,
      "_view_module": "@jupyter-widgets/controls",
      "_view_module_version": "1.5.0",
      "_view_name": "HTMLView",
      "description": "",
      "description_tooltip": null,
      "layout": "IPY_MODEL_f2664cc53e4d4ea581849fe9ee482aba",
      "placeholder": "​",
      "style": "IPY_MODEL_960accc3785c49f7a9ae8f91f2a23da9",
      "value": " 200/200 [20:48&lt;00:00,  6.15s/it]"
     }
    },
    "c7bf2d033b894dd995519eb4411450c8": {
     "model_module": "@jupyter-widgets/controls",
     "model_module_version": "1.5.0",
     "model_name": "ProgressStyleModel",
     "state": {
      "_model_module": "@jupyter-widgets/controls",
      "_model_module_version": "1.5.0",
      "_model_name": "ProgressStyleModel",
      "_view_count": null,
      "_view_module": "@jupyter-widgets/base",
      "_view_module_version": "1.2.0",
      "_view_name": "StyleView",
      "bar_color": null,
      "description_width": ""
     }
    },
    "ccc385b2498d4eaeafc293834515bd64": {
     "model_module": "@jupyter-widgets/base",
     "model_module_version": "1.2.0",
     "model_name": "LayoutModel",
     "state": {
      "_model_module": "@jupyter-widgets/base",
      "_model_module_version": "1.2.0",
      "_model_name": "LayoutModel",
      "_view_count": null,
      "_view_module": "@jupyter-widgets/base",
      "_view_module_version": "1.2.0",
      "_view_name": "LayoutView",
      "align_content": null,
      "align_items": null,
      "align_self": null,
      "border": null,
      "bottom": null,
      "display": null,
      "flex": null,
      "flex_flow": null,
      "grid_area": null,
      "grid_auto_columns": null,
      "grid_auto_flow": null,
      "grid_auto_rows": null,
      "grid_column": null,
      "grid_gap": null,
      "grid_row": null,
      "grid_template_areas": null,
      "grid_template_columns": null,
      "grid_template_rows": null,
      "height": null,
      "justify_content": null,
      "justify_items": null,
      "left": null,
      "margin": null,
      "max_height": null,
      "max_width": null,
      "min_height": null,
      "min_width": null,
      "object_fit": null,
      "object_position": null,
      "order": null,
      "overflow": null,
      "overflow_x": null,
      "overflow_y": null,
      "padding": null,
      "right": null,
      "top": null,
      "visibility": null,
      "width": null
     }
    },
    "cf0e9014ab2645e2939e93e61a18a08b": {
     "model_module": "@jupyter-widgets/base",
     "model_module_version": "1.2.0",
     "model_name": "LayoutModel",
     "state": {
      "_model_module": "@jupyter-widgets/base",
      "_model_module_version": "1.2.0",
      "_model_name": "LayoutModel",
      "_view_count": null,
      "_view_module": "@jupyter-widgets/base",
      "_view_module_version": "1.2.0",
      "_view_name": "LayoutView",
      "align_content": null,
      "align_items": null,
      "align_self": null,
      "border": null,
      "bottom": null,
      "display": null,
      "flex": null,
      "flex_flow": null,
      "grid_area": null,
      "grid_auto_columns": null,
      "grid_auto_flow": null,
      "grid_auto_rows": null,
      "grid_column": null,
      "grid_gap": null,
      "grid_row": null,
      "grid_template_areas": null,
      "grid_template_columns": null,
      "grid_template_rows": null,
      "height": null,
      "justify_content": null,
      "justify_items": null,
      "left": null,
      "margin": null,
      "max_height": null,
      "max_width": null,
      "min_height": null,
      "min_width": null,
      "object_fit": null,
      "object_position": null,
      "order": null,
      "overflow": null,
      "overflow_x": null,
      "overflow_y": null,
      "padding": null,
      "right": null,
      "top": null,
      "visibility": null,
      "width": null
     }
    },
    "d6f35933b46c4986b97990431c929f71": {
     "model_module": "@jupyter-widgets/base",
     "model_module_version": "1.2.0",
     "model_name": "LayoutModel",
     "state": {
      "_model_module": "@jupyter-widgets/base",
      "_model_module_version": "1.2.0",
      "_model_name": "LayoutModel",
      "_view_count": null,
      "_view_module": "@jupyter-widgets/base",
      "_view_module_version": "1.2.0",
      "_view_name": "LayoutView",
      "align_content": null,
      "align_items": null,
      "align_self": null,
      "border": null,
      "bottom": null,
      "display": null,
      "flex": null,
      "flex_flow": null,
      "grid_area": null,
      "grid_auto_columns": null,
      "grid_auto_flow": null,
      "grid_auto_rows": null,
      "grid_column": null,
      "grid_gap": null,
      "grid_row": null,
      "grid_template_areas": null,
      "grid_template_columns": null,
      "grid_template_rows": null,
      "height": null,
      "justify_content": null,
      "justify_items": null,
      "left": null,
      "margin": null,
      "max_height": null,
      "max_width": null,
      "min_height": null,
      "min_width": null,
      "object_fit": null,
      "object_position": null,
      "order": null,
      "overflow": null,
      "overflow_x": null,
      "overflow_y": null,
      "padding": null,
      "right": null,
      "top": null,
      "visibility": null,
      "width": null
     }
    },
    "e0680f61833747d89dc06d114595f83a": {
     "model_module": "@jupyter-widgets/base",
     "model_module_version": "1.2.0",
     "model_name": "LayoutModel",
     "state": {
      "_model_module": "@jupyter-widgets/base",
      "_model_module_version": "1.2.0",
      "_model_name": "LayoutModel",
      "_view_count": null,
      "_view_module": "@jupyter-widgets/base",
      "_view_module_version": "1.2.0",
      "_view_name": "LayoutView",
      "align_content": null,
      "align_items": null,
      "align_self": null,
      "border": null,
      "bottom": null,
      "display": null,
      "flex": null,
      "flex_flow": null,
      "grid_area": null,
      "grid_auto_columns": null,
      "grid_auto_flow": null,
      "grid_auto_rows": null,
      "grid_column": null,
      "grid_gap": null,
      "grid_row": null,
      "grid_template_areas": null,
      "grid_template_columns": null,
      "grid_template_rows": null,
      "height": null,
      "justify_content": null,
      "justify_items": null,
      "left": null,
      "margin": null,
      "max_height": null,
      "max_width": null,
      "min_height": null,
      "min_width": null,
      "object_fit": null,
      "object_position": null,
      "order": null,
      "overflow": null,
      "overflow_x": null,
      "overflow_y": null,
      "padding": null,
      "right": null,
      "top": null,
      "visibility": null,
      "width": null
     }
    },
    "e78af0ba8a0c4ccbabb6e45824c43444": {
     "model_module": "@jupyter-widgets/base",
     "model_module_version": "1.2.0",
     "model_name": "LayoutModel",
     "state": {
      "_model_module": "@jupyter-widgets/base",
      "_model_module_version": "1.2.0",
      "_model_name": "LayoutModel",
      "_view_count": null,
      "_view_module": "@jupyter-widgets/base",
      "_view_module_version": "1.2.0",
      "_view_name": "LayoutView",
      "align_content": null,
      "align_items": null,
      "align_self": null,
      "border": null,
      "bottom": null,
      "display": null,
      "flex": null,
      "flex_flow": null,
      "grid_area": null,
      "grid_auto_columns": null,
      "grid_auto_flow": null,
      "grid_auto_rows": null,
      "grid_column": null,
      "grid_gap": null,
      "grid_row": null,
      "grid_template_areas": null,
      "grid_template_columns": null,
      "grid_template_rows": null,
      "height": null,
      "justify_content": null,
      "justify_items": null,
      "left": null,
      "margin": null,
      "max_height": null,
      "max_width": null,
      "min_height": null,
      "min_width": null,
      "object_fit": null,
      "object_position": null,
      "order": null,
      "overflow": null,
      "overflow_x": null,
      "overflow_y": null,
      "padding": null,
      "right": null,
      "top": null,
      "visibility": null,
      "width": null
     }
    },
    "f16f076574134eb5a6a09fd14614d1fe": {
     "model_module": "@jupyter-widgets/controls",
     "model_module_version": "1.5.0",
     "model_name": "HTMLModel",
     "state": {
      "_dom_classes": [],
      "_model_module": "@jupyter-widgets/controls",
      "_model_module_version": "1.5.0",
      "_model_name": "HTMLModel",
      "_view_count": null,
      "_view_module": "@jupyter-widgets/controls",
      "_view_module_version": "1.5.0",
      "_view_name": "HTMLView",
      "description": "",
      "description_tooltip": null,
      "layout": "IPY_MODEL_e78af0ba8a0c4ccbabb6e45824c43444",
      "placeholder": "​",
      "style": "IPY_MODEL_a75ce6921c244ee185c6180dddaa1041",
      "value": " 120/120 [09:12&lt;00:00,  4.82s/it]"
     }
    },
    "f2664cc53e4d4ea581849fe9ee482aba": {
     "model_module": "@jupyter-widgets/base",
     "model_module_version": "1.2.0",
     "model_name": "LayoutModel",
     "state": {
      "_model_module": "@jupyter-widgets/base",
      "_model_module_version": "1.2.0",
      "_model_name": "LayoutModel",
      "_view_count": null,
      "_view_module": "@jupyter-widgets/base",
      "_view_module_version": "1.2.0",
      "_view_name": "LayoutView",
      "align_content": null,
      "align_items": null,
      "align_self": null,
      "border": null,
      "bottom": null,
      "display": null,
      "flex": null,
      "flex_flow": null,
      "grid_area": null,
      "grid_auto_columns": null,
      "grid_auto_flow": null,
      "grid_auto_rows": null,
      "grid_column": null,
      "grid_gap": null,
      "grid_row": null,
      "grid_template_areas": null,
      "grid_template_columns": null,
      "grid_template_rows": null,
      "height": null,
      "justify_content": null,
      "justify_items": null,
      "left": null,
      "margin": null,
      "max_height": null,
      "max_width": null,
      "min_height": null,
      "min_width": null,
      "object_fit": null,
      "object_position": null,
      "order": null,
      "overflow": null,
      "overflow_x": null,
      "overflow_y": null,
      "padding": null,
      "right": null,
      "top": null,
      "visibility": null,
      "width": null
     }
    },
    "f3699fc6d31a493da69379e6115be462": {
     "model_module": "@jupyter-widgets/base",
     "model_module_version": "1.2.0",
     "model_name": "LayoutModel",
     "state": {
      "_model_module": "@jupyter-widgets/base",
      "_model_module_version": "1.2.0",
      "_model_name": "LayoutModel",
      "_view_count": null,
      "_view_module": "@jupyter-widgets/base",
      "_view_module_version": "1.2.0",
      "_view_name": "LayoutView",
      "align_content": null,
      "align_items": null,
      "align_self": null,
      "border": null,
      "bottom": null,
      "display": null,
      "flex": null,
      "flex_flow": null,
      "grid_area": null,
      "grid_auto_columns": null,
      "grid_auto_flow": null,
      "grid_auto_rows": null,
      "grid_column": null,
      "grid_gap": null,
      "grid_row": null,
      "grid_template_areas": null,
      "grid_template_columns": null,
      "grid_template_rows": null,
      "height": null,
      "justify_content": null,
      "justify_items": null,
      "left": null,
      "margin": null,
      "max_height": null,
      "max_width": null,
      "min_height": null,
      "min_width": null,
      "object_fit": null,
      "object_position": null,
      "order": null,
      "overflow": null,
      "overflow_x": null,
      "overflow_y": null,
      "padding": null,
      "right": null,
      "top": null,
      "visibility": null,
      "width": null
     }
    },
    "f5cf5153f67c4b22a092a1a6b155ec97": {
     "model_module": "@jupyter-widgets/controls",
     "model_module_version": "1.5.0",
     "model_name": "HTMLModel",
     "state": {
      "_dom_classes": [],
      "_model_module": "@jupyter-widgets/controls",
      "_model_module_version": "1.5.0",
      "_model_name": "HTMLModel",
      "_view_count": null,
      "_view_module": "@jupyter-widgets/controls",
      "_view_module_version": "1.5.0",
      "_view_name": "HTMLView",
      "description": "",
      "description_tooltip": null,
      "layout": "IPY_MODEL_9530e510eb9a469db0934743867f54d0",
      "placeholder": "​",
      "style": "IPY_MODEL_3278787b08c9418cad26d25c2c01d208",
      "value": " 3000/3000 [00:01&lt;00:00, 1848.47it/s]"
     }
    },
    "fc25b1cad2df4d01a960a92f73d635f2": {
     "model_module": "@jupyter-widgets/controls",
     "model_module_version": "1.5.0",
     "model_name": "ProgressStyleModel",
     "state": {
      "_model_module": "@jupyter-widgets/controls",
      "_model_module_version": "1.5.0",
      "_model_name": "ProgressStyleModel",
      "_view_count": null,
      "_view_module": "@jupyter-widgets/base",
      "_view_module_version": "1.2.0",
      "_view_name": "StyleView",
      "bar_color": null,
      "description_width": ""
     }
    }
   }
  }
 },
 "nbformat": 4,
 "nbformat_minor": 4
}
