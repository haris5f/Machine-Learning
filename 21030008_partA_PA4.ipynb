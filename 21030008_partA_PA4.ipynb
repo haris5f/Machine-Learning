{
 "cells": [
  {
   "cell_type": "markdown",
   "metadata": {
    "id": "WdFUrY9aLUhI"
   },
   "source": [
    "## CS535/EE514 - Spring 2022 - Assignment 4 - Part A\n",
    "\n",
    "\n",
    "\n",
    "#### Important Instructions and Submission Guidelines:\n",
    "- Submit your code both as notebook file (.ipynb) and python script (.py) on LMS. Naming convention for submission of this notebook is `RollNumber_partA_PA4.ipynb`. For example: `23100042_partA_PA4.ipynb`\n",
    "- All the cells <b>must</b> be run once before submission. If your submission's cells are not showing the results (plots etc.), marks wil be deducted\n",
    "- Only the code written within this notebook's marked areas will be considered while grading. No other files will be entertained\n",
    "- You are advised to follow good programming practies including approriate variable naming and making use of logical comments.\n",
    "\n",
    "\n",
    "The university honor code should be maintained. Any violation, if found, will result in disciplinary action. \n"
   ]
  },
  {
   "cell_type": "markdown",
   "metadata": {
    "id": "nmNMjnfkAIfY"
   },
   "source": [
    "You are provided with a Sentiment Analysis dataset which contains\n",
    "tweets extracted using the twitter API. You are supposed to implement and train a classifier which will predict the sentiment of a given tweet. </br>"
   ]
  },
  {
   "cell_type": "markdown",
   "metadata": {
    "id": "0GIL42jLBLwW"
   },
   "source": [
    "**Setup**: </br>\n",
    "By now you should be able to do the following: </br>\n",
    "\n",
    "\n",
    "*   Mount Google Drive\n",
    "*   Import required libraries\n",
    "\n"
   ]
  },
  {
   "cell_type": "code",
   "execution_count": 1,
   "metadata": {
    "id": "3_mggS4sBf3N"
   },
   "outputs": [],
   "source": [
    "import pandas as pd\n",
    "import re\n",
    "import numpy as np\n",
    "import string\n",
    "string.punctuation\n",
    "import matplotlib.pyplot as plt\n",
    "plt.style.use(style='seaborn')\n",
    "%matplotlib inline\n",
    "from sklearn.model_selection import train_test_split\n",
    "import nltk\n",
    "from collections import defaultdict\n",
    "from nltk.tokenize import word_tokenize\n",
    "#nltk.download('punkt')\n",
    "from sklearn.metrics import accuracy_score\n",
    "from sklearn.metrics import classification_report\n",
    "from sklearn.metrics import confusion_matrix\n",
    "import math as m\n",
    "from nltk.stem.snowball import SnowballStemmer\n",
    "stemmer = SnowballStemmer(\"english\")\n",
    "import warnings\n",
    "warnings.filterwarnings(\"ignore\")"
   ]
  },
  {
   "cell_type": "code",
   "execution_count": 1,
   "metadata": {
    "id": "tMUBe0mCML0U"
   },
   "outputs": [],
   "source": []
  },
  {
   "cell_type": "markdown",
   "metadata": {
    "id": "4zlZBQX11KIq"
   },
   "source": [
    "**Part 1: Data Preprocessing (10 Marks)**"
   ]
  },
  {
   "cell_type": "markdown",
   "metadata": {
    "id": "Tx0F_mgKywSZ"
   },
   "source": [
    "The dataset can be found in the csv file available on this link: </br>\n",
    "[Naive Bayes](https://drive.google.com/drive/folders/1gktC0tP2GgrzJIFkyuVXybLnnmSrX5Cc?usp=sharing)</br>\n",
    "Read the .csv file. After reading the data, split your data into training and testing sets."
   ]
  },
  {
   "cell_type": "code",
   "execution_count": 2,
   "metadata": {
    "id": "5ydqx7e1yvK5"
   },
   "outputs": [],
   "source": [
    "train_set = pd.read_csv('train.csv')\n",
    "test_set = pd.read_csv('test.csv')\n",
    "## Change column names to keep old implementation\n",
    "train_set.rename(columns={'Sentiment': 'sentiment', 'Tweet': 'content'}, inplace=True)\n",
    "test_set.rename(columns={'Sentiment': 'sentiment', 'Tweet': 'content'}, inplace=True)"
   ]
  },
  {
   "cell_type": "code",
   "execution_count": 3,
   "metadata": {
    "colab": {
     "base_uri": "https://localhost:8080/"
    },
    "id": "0djymcQc_Tbo",
    "outputId": "12dd354c-8feb-4265-d479-70881400824c"
   },
   "outputs": [
    {
     "data": {
      "text/plain": [
       "0       @USAirways disappointment? Making own arrangem...\n",
       "1                                 @JetBlue my butt hurts.\n",
       "2       @AmericanAir u Cancelled Flightled my flight f...\n",
       "3       @AmericanAir all of these issues are not based...\n",
       "4       @USAirways I just spent 3.5 hours and got nowh...\n",
       "                              ...                        \n",
       "3340    @USAirways Haha - that will indeed be a great ...\n",
       "3341    Looking forward to using Passbook when I fly  ...\n",
       "3342                 @SouthwestAir It's all good. Thanks!\n",
       "3343    @VirginAmerica is the best airline I have flow...\n",
       "3344    @united They let us know in advance of the reb...\n",
       "Name: content, Length: 3345, dtype: object"
      ]
     },
     "execution_count": 3,
     "metadata": {},
     "output_type": "execute_result"
    }
   ],
   "source": [
    "train_set['content']"
   ]
  },
  {
   "cell_type": "code",
   "execution_count": 3,
   "metadata": {
    "id": "ebQh16rKTXvV"
   },
   "outputs": [],
   "source": []
  },
  {
   "cell_type": "markdown",
   "metadata": {
    "id": "9-iNc5sUy2E2"
   },
   "source": [
    "\n",
    "In the preprocessing step, you are required to:\n",
    "1. Remove stop words, unwanted symbols, punctuation marks, hyperlinks and usernames from the tweets \n",
    "2. Lower case the tweets. The list of stop words is provided to you along with\n",
    "the dataset on the above link. </br>\n",
    "Note: You may find the string and regex module useful for this task.\n"
   ]
  },
  {
   "cell_type": "code",
   "execution_count": 4,
   "metadata": {
    "id": "PU5UZYblPs_v"
   },
   "outputs": [],
   "source": [
    "# Read stop words file\n",
    "my_file = open(\"stop_words.txt\", \"r\")\n",
    "stop_words = my_file.read().split(\"\\n\")\n",
    "my_file.close()"
   ]
  },
  {
   "cell_type": "code",
   "execution_count": 4,
   "metadata": {
    "id": "XJF77BV6xQjM"
   },
   "outputs": [],
   "source": []
  },
  {
   "cell_type": "code",
   "execution_count": 5,
   "metadata": {
    "id": "PCxg2FVWRFTG"
   },
   "outputs": [],
   "source": [
    "# Remove stopwords and other tags\n",
    "# old dataset required deep preprocessing\n",
    "def remove_stopwords(tweets):\n",
    "  all_words = \"\"\n",
    "  for word in word_tokenize(tweets):\n",
    "    if not(word.lower() in stop_words):\n",
    "    #and (not word.lower() in ['â½', 'â½m', 'â½n', 'â½s', 'â½t', 'â½ã',\"â¦\" ]):\n",
    "      word = word.lower()\n",
    "      all_words+= (word + \" \")\n",
    "  return all_words\n",
    "  \n",
    "\n",
    "def remove_tags(string): # remove punctutation and symbols etc\n",
    "  removelist = \"\"\n",
    "  result = re.sub(r'http\\S+', '', string) \n",
    "  result = re.sub('@[\\w]+','',result) \n",
    "  result = re.sub(r\"(?<!#)\\d+\", \"\", result)  \n",
    "  result = re.sub(r'[^a-zA-Z]', ' ', result)\n",
    "  result = re.sub('\\s*\\\\b([a-z]|[a-z]{1})\\\\b', ' ', result)\n",
    "  result = re.sub(r'[\\W_ + ½]+', ' ', result)\n",
    "  result = result.lower()\n",
    "  return result\n",
    "  #return result\n"
   ]
  },
  {
   "cell_type": "code",
   "execution_count": 6,
   "metadata": {
    "id": "qE1wK_qg1Fdc"
   },
   "outputs": [],
   "source": [
    "## apply above functions\n",
    "train_set['content']=train_set['content'].apply(lambda x : remove_tags(x))\n",
    "test_set['content']=test_set['content'].apply(lambda x : remove_tags(x))\n",
    "#remove stopwords \n",
    "train_set['content']= train_set['content'].apply(lambda x:remove_stopwords(x))\n",
    "test_set['content']= test_set['content'].apply(lambda x:remove_stopwords(x))\n",
    "\n"
   ]
  },
  {
   "cell_type": "code",
   "execution_count": 6,
   "metadata": {
    "id": "Zo1bmDMKC66v"
   },
   "outputs": [],
   "source": []
  },
  {
   "cell_type": "code",
   "execution_count": 7,
   "metadata": {
    "colab": {
     "base_uri": "https://localhost:8080/"
    },
    "id": "UBCjdRLqR_tt",
    "outputId": "8d919e78-187f-4154-aba5-b50f6e823a38"
   },
   "outputs": [
    {
     "data": {
      "text/plain": [
       "0       disappointment making arrangements amp sleepin...\n",
       "1                                             butt hurts \n",
       "2       cancelled flightled flight tomorrow tell call ...\n",
       "3       issues based weather things control issues bas...\n",
       "4       spent hours got nowhere entire experience epic...\n",
       "                              ...                        \n",
       "3340                               haha indeed great day \n",
       "3341            looking forward using passbook fly weeks \n",
       "3342                                         good thanks \n",
       "3343    best airline flown easy change reservation hel...\n",
       "3344    let us know advance reboot yes thanks attentiv...\n",
       "Name: content, Length: 3345, dtype: object"
      ]
     },
     "execution_count": 7,
     "metadata": {},
     "output_type": "execute_result"
    }
   ],
   "source": [
    "train_set['content']"
   ]
  },
  {
   "cell_type": "markdown",
   "metadata": {
    "id": "u-qN8OZs19WL"
   },
   "source": [
    "**Part 2: Bag of Words (10 Marks)**"
   ]
  },
  {
   "cell_type": "markdown",
   "metadata": {
    "id": "ka2RQiU3vreB"
   },
   "source": [
    "Bag of Words (BOW) is a method to extract features from text documents. These features can be used for training machine learning algorithms. It creates a vocabulary of all the unique words occurring in all the documents in the training set."
   ]
  },
  {
   "cell_type": "markdown",
   "metadata": {
    "id": "IrNavDQr23M-"
   },
   "source": [
    "In this task, you’ll represent each tweet as a bag-of-words (BoW), that is, an unordered set of words with their position ignored, keeping only their frequency in the tweet. </br>\n",
    "For example, consider the below tweets: </br>\n",
    "*   T1 = Welcome to machine learning, Machine! </br>\n",
    "*   T2 = Machine learning is fun. </br>\n",
    "\n",
    "The bag-of-words representation (ignoring case and punctuation) for the above tweets are: </br>\n",
    "![NB.png](data:image/png;base64,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)"
   ]
  },
  {
   "cell_type": "markdown",
   "metadata": {
    "id": "DEL2Y4AT5m8i"
   },
   "source": [
    "Basically, it will be a sparse matrix of size  = (Total Tweets x Length of Vocabulary). </br>\n",
    "*Note: We only use the training set to construct the vocabulary for the BoW representation.*"
   ]
  },
  {
   "cell_type": "code",
   "execution_count": 8,
   "metadata": {
    "id": "BDiX7cHU3MxH"
   },
   "outputs": [],
   "source": [
    "vocab = []\n",
    "for tweet in train_set['content']:\n",
    "  vocab.extend((tweet.split()))\n",
    "vocab = list(set(vocab))  # get rid of repeated words\n",
    "##BOW\n",
    "matrix = np.zeros((len(train_set.content),len(vocab)))\n",
    "for i,tweet in enumerate(train_set['content']) :\n",
    "  for word in (tweet.split()):\n",
    "    ind = vocab.index(word)\n",
    "    matrix[i][ind]+=1\n",
    "\n",
    "X = matrix\n"
   ]
  },
  {
   "cell_type": "code",
   "execution_count": 9,
   "metadata": {
    "id": "Z3FYkNY7Zofa"
   },
   "outputs": [],
   "source": [
    "# encoding for labels\n",
    "from sklearn.preprocessing import LabelEncoder\n",
    "labels = train_set['sentiment']\n",
    "encoder = LabelEncoder()\n",
    "encoded_labels = encoder.fit_transform(labels)\n",
    "\n",
    "\n"
   ]
  },
  {
   "cell_type": "code",
   "execution_count": 9,
   "metadata": {
    "id": "wLJ6VMPsdQU0"
   },
   "outputs": [],
   "source": []
  },
  {
   "cell_type": "code",
   "execution_count": 10,
   "metadata": {
    "id": "7paM4wMU3GUl"
   },
   "outputs": [],
   "source": [
    "#print(len(vocab),X.shape)"
   ]
  },
  {
   "cell_type": "code",
   "execution_count": 11,
   "metadata": {
    "colab": {
     "base_uri": "https://localhost:8080/"
    },
    "id": "c5lblFX717XR",
    "outputId": "a1ff6951-b536-4ace-fbfc-3b7bbbc278cc"
   },
   "outputs": [
    {
     "name": "stdout",
     "output_type": "stream",
     "text": [
      "5112 (3345, 5112)\n"
     ]
    }
   ],
   "source": [
    "len(train_set)\n",
    "print(len(vocab),matrix.shape)\n"
   ]
  },
  {
   "cell_type": "code",
   "execution_count": 11,
   "metadata": {
    "id": "Jqktu21KeEkg"
   },
   "outputs": [],
   "source": []
  },
  {
   "cell_type": "markdown",
   "metadata": {
    "id": "lJJ7AgGW56Nx"
   },
   "source": [
    "**Part 3: Implementation of Na¨ıve Bayes classifier from\n",
    "scratch (30 marks)**"
   ]
  },
  {
   "cell_type": "markdown",
   "metadata": {
    "id": "LqE6GP736uxX"
   },
   "source": [
    "Using the same bag of words that has been used earlier, implement a na¨ıve Bayes classifier. Do not forget to apply Laplace (Add-1) smoothing as learned in class. </br>\n",
    "**If Scikit-Learn is used in this part, you will NOT get any credit.**"
   ]
  },
  {
   "cell_type": "markdown",
   "metadata": {
    "id": "eeFYeB2F7KUu"
   },
   "source": [
    "* **Training the Na¨ıve Bayes Classifier** "
   ]
  },
  {
   "cell_type": "markdown",
   "metadata": {
    "id": "mOtbuj2iACfl"
   },
   "source": [
    "$\\frac{\\theta}{\\|\\mathbf{w}\\|}$"
   ]
  },
  {
   "cell_type": "markdown",
   "metadata": {
    "id": "OjTnHIugK_c7"
   },
   "source": [
    "We need to find the log prior probabilities and log likelihoods for all words and all classes in the training set. The prior probability for any class $c$ is relatively easy to find, it is given by: </br>\n",
    "![Prob.png](data:image/png;base64,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) </br>\n",
    "where $N_c$ is the number of documents in class $c$, and $N_{doc}$ is the total number of documents. "
   ]
  },
  {
   "cell_type": "markdown",
   "metadata": {
    "id": "apezNKIYMG84"
   },
   "source": [
    "To find likelihood $P(w_i|c)$ of any word $w_i$\n",
    "in class $c$, we first need to divide our data-set with respect to class, and determine the frequency of $w_i$ in all documents of class $c$ (with add-one Laplace smoothing applied) as shown: </br>\n",
    "![prob2.png](data:image/png;base64,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) </br>\n",
    "where vocabulary $V$ consists of the union of all word types in all classes."
   ]
  },
  {
   "cell_type": "code",
   "execution_count": 11,
   "metadata": {
    "id": "lZcWgHtaHNIM"
   },
   "outputs": [],
   "source": []
  },
  {
   "cell_type": "code",
   "execution_count": 12,
   "metadata": {
    "id": "rRTOw1UP55dE"
   },
   "outputs": [],
   "source": [
    "# Find log prior probabilities and log likelihood for each word/ class\n",
    "Nc_counts  =train_set['sentiment'].value_counts()\n",
    "prior_prob = {}\n",
    "N_doc = len(train_set['sentiment'])\n",
    "for sentiment, Nc in Nc_counts.items():\n",
    "  prior_prob[sentiment] = m.log(Nc/N_doc)"
   ]
  },
  {
   "cell_type": "code",
   "execution_count": 13,
   "metadata": {
    "id": "UKdTk2zNNMLN"
   },
   "outputs": [],
   "source": [
    "# create dict for word counts\n",
    "counts = {}\n",
    "for l in range(len(train_set.sentiment.unique())): # dict for each class\n",
    "    counts[l] = defaultdict(lambda: 0)\n",
    "for i in range(X.shape[0]):\n",
    "    l = encoded_labels[i]\n",
    "    for j in range(len(vocab)):\n",
    "        counts[l][vocab[j]] += X[i][j]"
   ]
  },
  {
   "cell_type": "code",
   "execution_count": 13,
   "metadata": {
    "id": "z_wuoQ-jRrDS"
   },
   "outputs": [],
   "source": []
  },
  {
   "cell_type": "code",
   "execution_count": 13,
   "metadata": {
    "id": "npEqHn6FRrGA"
   },
   "outputs": [],
   "source": []
  },
  {
   "cell_type": "code",
   "execution_count": 14,
   "metadata": {
    "id": "l-3zhR5Ddh4G"
   },
   "outputs": [],
   "source": [
    "def likelihood(w,counts,sentiment,encoder,vocab):\n",
    "  nom = counts[encoder.transform([sentiment])[0]][w] + 1\n",
    "  denom = sum(counts[encoder.transform([sentiment])[0]].values()) + len(vocab)\n",
    "  return m.log(nom/denom)"
   ]
  },
  {
   "cell_type": "code",
   "execution_count": 15,
   "metadata": {
    "id": "hFJLVPDzYxtg"
   },
   "outputs": [],
   "source": [
    "def prediction(tweets,counts,encoder,vocab,sentiments,prior_prob):\n",
    "  predictions = []\n",
    "  for tweet in tweets:\n",
    "    log_prob = {i: prior_prob[i] for i in sentiments}\n",
    "    tweet = (word_tokenize(tweet))\n",
    "    for w in tweet:\n",
    "      for i in sentiments:\n",
    "        log_likelihood = likelihood(w,counts,i,encoder,vocab)\n",
    "        log_prob[i] += log_likelihood\n",
    "    predictions.append(max(log_prob, key=log_prob.get))\n",
    "  return predictions\n",
    "\n",
    "sentiments = train_set['sentiment'].unique()"
   ]
  },
  {
   "cell_type": "markdown",
   "metadata": {
    "id": "fB5lSUZgM6mx"
   },
   "source": [
    "* **Testing the Na¨ıve Bayes Classifier** \n"
   ]
  },
  {
   "cell_type": "markdown",
   "metadata": {
    "id": "x_sBf5HrNDFT"
   },
   "source": [
    "Given a test data point, and the set of prior probabilities and likelihoods, we need to return the **best** class $c$. </br>\n",
    "We will create a vector **sum** of length equal to the number\n",
    "of classes. For each class $c$, we will initially add our prior probability. Then for each word in the test data in our vocabulary, we will add the corresponding likelihood.\n",
    "Finally, the maximum index of our **sum** vector will be the predicted class for the test data point."
   ]
  },
  {
   "cell_type": "code",
   "execution_count": 16,
   "metadata": {
    "id": "0f1Nx1cjOI2J"
   },
   "outputs": [],
   "source": [
    "pred = prediction(test_set['content'],counts,encoder,vocab,sentiments,prior_prob)\n",
    "\n",
    "# ---------"
   ]
  },
  {
   "cell_type": "markdown",
   "metadata": {
    "id": "9Bwhr_Mw_IAl"
   },
   "source": [
    "* Evaluation function </br>\n",
    "\n",
    "It calculates classification accuracy, F1 score and confusion\n",
    "matrix. Pass the labels of test data in this function and report your results."
   ]
  },
  {
   "cell_type": "code",
   "execution_count": 16,
   "metadata": {
    "id": "s7BQDfSr_ERd"
   },
   "outputs": [],
   "source": []
  },
  {
   "cell_type": "code",
   "execution_count": 17,
   "metadata": {
    "colab": {
     "base_uri": "https://localhost:8080/"
    },
    "id": "7ZssuCa8_hKB",
    "outputId": "db1243e4-0e7b-4d06-ef66-b38b7535f49b"
   },
   "outputs": [
    {
     "name": "stdout",
     "output_type": "stream",
     "text": [
      "accuracy:  0.729525120440468\n",
      "confusion matrix:\n",
      " [[700 164  60]\n",
      " [ 68 180  42]\n",
      " [ 24  35 180]]\n",
      "              precision    recall  f1-score   support\n",
      "\n",
      "    negative       0.88      0.76      0.82       924\n",
      "     neutral       0.47      0.62      0.54       290\n",
      "    positive       0.64      0.75      0.69       239\n",
      "\n",
      "    accuracy                           0.73      1453\n",
      "   macro avg       0.67      0.71      0.68      1453\n",
      "weighted avg       0.76      0.73      0.74      1453\n",
      "\n"
     ]
    }
   ],
   "source": [
    "\n",
    "print('accuracy: ', accuracy_score(test_set.sentiment, pred))\n",
    "print('confusion matrix:\\n',confusion_matrix(test_set.sentiment,pred))\n",
    "print(classification_report(test_set.sentiment, pred))\n"
   ]
  },
  {
   "cell_type": "code",
   "execution_count": 18,
   "metadata": {
    "colab": {
     "base_uri": "https://localhost:8080/",
     "height": 283
    },
    "id": "GWEZS6Ce5nJf",
    "outputId": "61422b45-0eec-4650-9463-e8004631d5fc"
   },
   "outputs": [
    {
     "data": {
      "image/png": "[encoded data removed]",
      "text/plain": [
       "<Figure size 432x288 with 2 Axes>"
      ]
     },
     "metadata": {
      "needs_background": "light"
     },
     "output_type": "display_data"
    }
   ],
   "source": [
    "from sklearn.metrics import ConfusionMatrixDisplay\n",
    "ConfusionMatrixDisplay.from_predictions(pred,test_set.sentiment)\n",
    "\n",
    "plt.show()"
   ]
  },
  {
   "cell_type": "markdown",
   "metadata": {
    "id": "FYt259pU_oJ4"
   },
   "source": [
    "**Part-4: Implementation of Na¨ıve Bayes classifier using\n",
    "Scikit-Learn (10 marks)**"
   ]
  },
  {
   "cell_type": "markdown",
   "metadata": {
    "id": "qtHmUNvW_rNV"
   },
   "source": [
    "Use Scikit-Learn’s implementation of the na¨ıve Bayes classifier on the bag of words. Remember to implement one vs rest model with the in-built classifier in binary classification mode. </br>\n",
    "Report the accuracy, F1 score, and confusion matrix of test using the library’s\n",
    "implementation."
   ]
  },
  {
   "cell_type": "code",
   "execution_count": 18,
   "metadata": {
    "id": "xnA5fiVn__Bd"
   },
   "outputs": [],
   "source": []
  },
  {
   "cell_type": "code",
   "execution_count": 19,
   "metadata": {
    "id": "CmUIFVmdRs5X"
   },
   "outputs": [],
   "source": [
    "##BOW for test set\n",
    "matrix_test = np.zeros((len(test_set.content),len(vocab)))\n",
    "for i,tweet in enumerate(test_set['content']) :\n",
    "  for word in word_tokenize(tweet):\n",
    "    try:\n",
    "      ind = vocab.index(word)\n",
    "      matrix_test[i][ind]+=1\n",
    "    except:\n",
    "      pass\n"
   ]
  },
  {
   "cell_type": "code",
   "execution_count": 20,
   "metadata": {
    "id": "FMtI7-sNbnuQ"
   },
   "outputs": [],
   "source": [
    "from sklearn.multiclass import OneVsRestClassifier\n",
    "from sklearn.naive_bayes import CategoricalNB\n",
    "from sklearn.naive_bayes import MultinomialNB\n",
    "\n",
    "clf = OneVsRestClassifier(MultinomialNB()).fit(matrix, train_set['sentiment'])\n"
   ]
  },
  {
   "cell_type": "code",
   "execution_count": 21,
   "metadata": {
    "id": "nbmU7fuLbqAt"
   },
   "outputs": [],
   "source": [
    "pred = clf.predict(matrix_test)"
   ]
  },
  {
   "cell_type": "code",
   "execution_count": 21,
   "metadata": {
    "id": "7W3TCJPxcSiV"
   },
   "outputs": [],
   "source": []
  },
  {
   "cell_type": "code",
   "execution_count": 21,
   "metadata": {
    "id": "ms1H22FLcvZh"
   },
   "outputs": [],
   "source": []
  },
  {
   "cell_type": "code",
   "execution_count": 22,
   "metadata": {
    "colab": {
     "base_uri": "https://localhost:8080/"
    },
    "id": "6Uen5lR-eEJ2",
    "outputId": "1b7d9d86-2ae8-4399-8880-dea6ce67d5a9"
   },
   "outputs": [
    {
     "name": "stdout",
     "output_type": "stream",
     "text": [
      "accuracy:  0.7391603578802478\n",
      "confusion matrix:\n",
      " [[722 159  43]\n",
      " [ 71 176  43]\n",
      " [ 27  36 176]]\n",
      "              precision    recall  f1-score   support\n",
      "\n",
      "    negative       0.88      0.78      0.83       924\n",
      "     neutral       0.47      0.61      0.53       290\n",
      "    positive       0.67      0.74      0.70       239\n",
      "\n",
      "    accuracy                           0.74      1453\n",
      "   macro avg       0.68      0.71      0.69      1453\n",
      "weighted avg       0.77      0.74      0.75      1453\n",
      "\n"
     ]
    }
   ],
   "source": [
    "print('accuracy: ', accuracy_score(test_set.sentiment, pred))\n",
    "print('confusion matrix:\\n',confusion_matrix(test_set.sentiment,pred))\n",
    "print(classification_report(test_set.sentiment, pred))\n",
    "\n"
   ]
  },
  {
   "cell_type": "code",
   "execution_count": 22,
   "metadata": {
    "id": "-P7rMaqqeEuH"
   },
   "outputs": [],
   "source": []
  },
  {
   "cell_type": "code",
   "execution_count": 22,
   "metadata": {
    "id": "LmTn0xYpfSAT"
   },
   "outputs": [],
   "source": []
  },
  {
   "cell_type": "code",
   "execution_count": 22,
   "metadata": {
    "id": "Avppvg-Vf_Go"
   },
   "outputs": [],
   "source": []
  }
 ],
 "metadata": {
  "colab": {
   "collapsed_sections": [],
   "name": "21030008_partA_PA4.ipynb",
   "provenance": []
  },
  "kernelspec": {
   "display_name": "Python 3",
   "language": "python",
   "name": "python3"
  },
  "language_info": {
   "codemirror_mode": {
    "name": "ipython",
    "version": 3
   },
   "file_extension": ".py",
   "mimetype": "text/x-python",
   "name": "python",
   "nbconvert_exporter": "python",
   "pygments_lexer": "ipython3",
   "version": "3.8.5"
  }
 },
 "nbformat": 4,
 "nbformat_minor": 4
}
